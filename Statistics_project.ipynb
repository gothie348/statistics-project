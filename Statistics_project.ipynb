{
  "cells": [
    {
      "cell_type": "code",
      "execution_count": 242,
      "metadata": {
        "id": "E934hrzgTSEB"
      },
      "outputs": [],
      "source": [
        "import numpy as np\r\n",
        "import pandas as pd\r\n",
        "import matplotlib.pyplot as plt\r\n",
        "import seaborn as sns\r\n",
        "import datetime\r\n",
        "import matplotlib as mpl \r\n",
        "import matplotlib.pyplot as plt \r\n"
      ]
    },
    {
      "cell_type": "markdown",
      "metadata": {
        "id": "hIcYQojwTSEE"
      },
      "source": [
        "# Ayiti Analytics Probability and Statistics Project"
      ]
    },
    {
      "cell_type": "markdown",
      "metadata": {
        "id": "4q2hjm_ZTSEH"
      },
      "source": [
        "Use all the files to have a final datasets to have the following columns\r\n",
        "   <ul>\r\n",
        "    <li>questid</li>\r\n",
        "    <li>gender</li>\r\n",
        "    <li>age (age of applicant)</li>\r\n",
        "    <li>communeName (use data prep in commune file)</li>\r\n",
        "    <li>application_date (created at in quest file)</li>\r\n",
        "    <li>enroll_date (created_at in enroll file)</li>\r\n",
        "    <li>is_enroll (Yes/No) (use data prep in enroll file)</li>\r\n",
        "    <li>Education Level</li>\r\n",
        "   <li>Communication channels(hear_AA1)</li>\r\n",
        "    <li>Bootcamp Insterest (after_AA)</li>\r\n",
        "    <li>Payement Date (use ord and transaction files)</li>\r\n",
        "    <li>Payed (Yes/No)</li>\r\n",
        "    <li>list Technologies as columns based (use get_dummies)</li>\r\n",
        "    <li>list  Study domains (use get_dummies)</li>\r\n",
        "    <li>Job is formal</li>\r\n",
        "    <li>Have computer at home</li>\r\n",
        "    <li>Have internet at home</li>\r\n",
        "    \r\n",
        "   </ul>\r\n",
        "   "
      ]
    },
    {
      "cell_type": "code",
      "execution_count": 243,
      "metadata": {
        "id": "-njqkLFsgImS"
      },
      "outputs": [],
      "source": [
        "commune=pd.read_excel(r\"commune.xlsx\")\r\n",
        "quest= pd.read_csv(r\"quest.csv\")\r\n",
        "enroll= pd.read_csv(r\"enroll.csv\")\r\n",
        "industry=pd.read_csv(r\"industry.csv\")\r\n",
        "ord= pd.read_csv(r\"ord.csv\")\r\n",
        "study_domain=pd.read_csv(r\"study_domain.csv\")\r\n",
        "technology=pd.read_csv(r\"technology.csv\")\r\n",
        "transaction= pd.read_csv(r\"transaction.csv\")"
      ]
    },
    {
      "cell_type": "code",
      "execution_count": 244,
      "metadata": {
        "id": "C0ik6NSgT5ju"
      },
      "outputs": [],
      "source": [
        "# def read_file(r=\"\", file=\"\"):\r\n",
        "#   if file.type()==excel:\r\n",
        "#     df= pd.read_excel(file)\r\n",
        "#   else:\r\n",
        "#     df=pd.read_csv(file)\r\n",
        "# def read_file(file_name=\"\"):\r\n",
        "#   read= pd.read_csv(r\"file_name\")\r\n",
        "#   return read"
      ]
    },
    {
      "cell_type": "code",
      "execution_count": 245,
      "metadata": {
        "colab": {
          "base_uri": "https://localhost:8080/"
        },
        "id": "IWa5f-giX1_H",
        "outputId": "8b8a189d-85e4-4c75-b3cc-8f2e62dd5f52"
      },
      "outputs": [
        {
          "data": {
            "text/plain": [
              "250"
            ]
          },
          "execution_count": 245,
          "metadata": {},
          "output_type": "execute_result"
        }
      ],
      "source": [
        "# read_file(file_name=\"quest.csv\")\r\n",
        "len(quest)"
      ]
    },
    {
      "cell_type": "code",
      "execution_count": 246,
      "metadata": {
        "id": "oMLQ3wjttIbt"
      },
      "outputs": [],
      "source": [
        "def merging (y,x):\r\n",
        "  df= pd.merge(left=x, right=y, how=\"left\", on=\"quest_id\" )\r\n",
        "  display(df.head(2))\r\n",
        "  return df"
      ]
    },
    {
      "cell_type": "code",
      "execution_count": 247,
      "metadata": {},
      "outputs": [],
      "source": [
        "def dummies (data):\r\n",
        "    dum= pd.get_dummies(data[[\"key\", \"quest_id\",\"values\"]], columns=[\"values\"], prefix=\"\", prefix_sep=\"\")\r\n",
        "    groupe= dum.groupby(\"quest_id\").sum()\r\n",
        "    return groupe"
      ]
    },
    {
      "cell_type": "code",
      "execution_count": 248,
      "metadata": {},
      "outputs": [],
      "source": [
        "techno= dummies(technology)"
      ]
    },
    {
      "cell_type": "code",
      "execution_count": 249,
      "metadata": {},
      "outputs": [],
      "source": [
        "study= dummies(study_domain)"
      ]
    },
    {
      "cell_type": "code",
      "execution_count": 250,
      "metadata": {
        "id": "igfstI-pcCem"
      },
      "outputs": [],
      "source": [
        "enroll[\"is_enroll\"]=\"yes\""
      ]
    },
    {
      "cell_type": "code",
      "execution_count": 251,
      "metadata": {},
      "outputs": [],
      "source": [
        "df4=pd.concat([ord,transaction],axis=0)"
      ]
    },
    {
      "cell_type": "code",
      "execution_count": 252,
      "metadata": {},
      "outputs": [],
      "source": [
        "df4[\"payed\"]=\"yes\""
      ]
    },
    {
      "cell_type": "code",
      "execution_count": 253,
      "metadata": {},
      "outputs": [
        {
          "data": {
            "text/html": [
              "<div>\n",
              "<style scoped>\n",
              "    .dataframe tbody tr th:only-of-type {\n",
              "        vertical-align: middle;\n",
              "    }\n",
              "\n",
              "    .dataframe tbody tr th {\n",
              "        vertical-align: top;\n",
              "    }\n",
              "\n",
              "    .dataframe thead th {\n",
              "        text-align: right;\n",
              "    }\n",
              "</style>\n",
              "<table border=\"1\" class=\"dataframe\">\n",
              "  <thead>\n",
              "    <tr style=\"text-align: right;\">\n",
              "      <th></th>\n",
              "      <th>Unnamed: 0</th>\n",
              "      <th>created_at</th>\n",
              "      <th>user_id</th>\n",
              "      <th>product_name</th>\n",
              "      <th>product_id</th>\n",
              "      <th>amount_dollars</th>\n",
              "      <th>amount_cents</th>\n",
              "      <th>subscription</th>\n",
              "      <th>coupon_code</th>\n",
              "      <th>coupon_id</th>\n",
              "      <th>affiliate_referral_code</th>\n",
              "      <th>status</th>\n",
              "      <th>quest_id</th>\n",
              "      <th>modified_at</th>\n",
              "      <th>course_id</th>\n",
              "      <th>transaction_id</th>\n",
              "      <th>payed</th>\n",
              "    </tr>\n",
              "  </thead>\n",
              "  <tbody>\n",
              "    <tr>\n",
              "      <th>0</th>\n",
              "      <td>0</td>\n",
              "      <td>2021-03-14T15:34:35.014Z</td>\n",
              "      <td>41587952</td>\n",
              "      <td>Entwodiksyon Nan Syans Done</td>\n",
              "      <td>1100636.0</td>\n",
              "      <td>20.0</td>\n",
              "      <td>2000.0</td>\n",
              "      <td>False</td>\n",
              "      <td>NaN</td>\n",
              "      <td>NaN</td>\n",
              "      <td>NaN</td>\n",
              "      <td>Complete</td>\n",
              "      <td>906b3c86-ce95-11eb-b6a7-7c67a234f601</td>\n",
              "      <td>NaN</td>\n",
              "      <td>NaN</td>\n",
              "      <td>NaN</td>\n",
              "      <td>yes</td>\n",
              "    </tr>\n",
              "    <tr>\n",
              "      <th>1</th>\n",
              "      <td>1</td>\n",
              "      <td>2021-03-14T04:20:23.483Z</td>\n",
              "      <td>41564742</td>\n",
              "      <td>Entwodiksyon Nan Syans Done</td>\n",
              "      <td>1100636.0</td>\n",
              "      <td>20.0</td>\n",
              "      <td>2000.0</td>\n",
              "      <td>False</td>\n",
              "      <td>NaN</td>\n",
              "      <td>NaN</td>\n",
              "      <td>NaN</td>\n",
              "      <td>Complete</td>\n",
              "      <td>906636cf-ce95-11eb-8679-7c67a234f601</td>\n",
              "      <td>NaN</td>\n",
              "      <td>NaN</td>\n",
              "      <td>NaN</td>\n",
              "      <td>yes</td>\n",
              "    </tr>\n",
              "  </tbody>\n",
              "</table>\n",
              "</div>"
            ],
            "text/plain": [
              "   Unnamed: 0                created_at   user_id  \\\n",
              "0           0  2021-03-14T15:34:35.014Z  41587952   \n",
              "1           1  2021-03-14T04:20:23.483Z  41564742   \n",
              "\n",
              "                  product_name  product_id  amount_dollars  amount_cents  \\\n",
              "0  Entwodiksyon Nan Syans Done   1100636.0            20.0        2000.0   \n",
              "1  Entwodiksyon Nan Syans Done   1100636.0            20.0        2000.0   \n",
              "\n",
              "  subscription coupon_code  coupon_id  affiliate_referral_code    status  \\\n",
              "0        False         NaN        NaN                      NaN  Complete   \n",
              "1        False         NaN        NaN                      NaN  Complete   \n",
              "\n",
              "                               quest_id modified_at  course_id  \\\n",
              "0  906b3c86-ce95-11eb-b6a7-7c67a234f601         NaN        NaN   \n",
              "1  906636cf-ce95-11eb-8679-7c67a234f601         NaN        NaN   \n",
              "\n",
              "   transaction_id payed  \n",
              "0             NaN   yes  \n",
              "1             NaN   yes  "
            ]
          },
          "execution_count": 253,
          "metadata": {},
          "output_type": "execute_result"
        }
      ],
      "source": [
        "df4.head(2)"
      ]
    },
    {
      "cell_type": "code",
      "execution_count": 254,
      "metadata": {},
      "outputs": [
        {
          "data": {
            "text/html": [
              "<div>\n",
              "<style scoped>\n",
              "    .dataframe tbody tr th:only-of-type {\n",
              "        vertical-align: middle;\n",
              "    }\n",
              "\n",
              "    .dataframe tbody tr th {\n",
              "        vertical-align: top;\n",
              "    }\n",
              "\n",
              "    .dataframe thead th {\n",
              "        text-align: right;\n",
              "    }\n",
              "</style>\n",
              "<table border=\"1\" class=\"dataframe\">\n",
              "  <thead>\n",
              "    <tr style=\"text-align: right;\">\n",
              "      <th></th>\n",
              "      <th>Unnamed: 0</th>\n",
              "      <th>created_at</th>\n",
              "      <th>user_id</th>\n",
              "      <th>product_name</th>\n",
              "      <th>product_id</th>\n",
              "      <th>amount_dollars</th>\n",
              "      <th>amount_cents</th>\n",
              "      <th>subscription</th>\n",
              "      <th>coupon_code</th>\n",
              "      <th>coupon_id</th>\n",
              "      <th>affiliate_referral_code</th>\n",
              "      <th>status</th>\n",
              "      <th>quest_id</th>\n",
              "      <th>modified_at</th>\n",
              "      <th>course_id</th>\n",
              "      <th>transaction_id</th>\n",
              "      <th>payed</th>\n",
              "    </tr>\n",
              "  </thead>\n",
              "  <tbody>\n",
              "    <tr>\n",
              "      <th>0</th>\n",
              "      <td>0</td>\n",
              "      <td>2021-03-14T15:34:35.014Z</td>\n",
              "      <td>41587952</td>\n",
              "      <td>Entwodiksyon Nan Syans Done</td>\n",
              "      <td>1100636.0</td>\n",
              "      <td>20.0</td>\n",
              "      <td>2000.0</td>\n",
              "      <td>False</td>\n",
              "      <td>NaN</td>\n",
              "      <td>NaN</td>\n",
              "      <td>NaN</td>\n",
              "      <td>Complete</td>\n",
              "      <td>906b3c86-ce95-11eb-b6a7-7c67a234f601</td>\n",
              "      <td>NaN</td>\n",
              "      <td>NaN</td>\n",
              "      <td>NaN</td>\n",
              "      <td>yes</td>\n",
              "    </tr>\n",
              "    <tr>\n",
              "      <th>1</th>\n",
              "      <td>1</td>\n",
              "      <td>2021-03-14T04:20:23.483Z</td>\n",
              "      <td>41564742</td>\n",
              "      <td>Entwodiksyon Nan Syans Done</td>\n",
              "      <td>1100636.0</td>\n",
              "      <td>20.0</td>\n",
              "      <td>2000.0</td>\n",
              "      <td>False</td>\n",
              "      <td>NaN</td>\n",
              "      <td>NaN</td>\n",
              "      <td>NaN</td>\n",
              "      <td>Complete</td>\n",
              "      <td>906636cf-ce95-11eb-8679-7c67a234f601</td>\n",
              "      <td>NaN</td>\n",
              "      <td>NaN</td>\n",
              "      <td>NaN</td>\n",
              "      <td>yes</td>\n",
              "    </tr>\n",
              "    <tr>\n",
              "      <th>2</th>\n",
              "      <td>2</td>\n",
              "      <td>2021-03-12T19:29:22.832Z</td>\n",
              "      <td>41501853</td>\n",
              "      <td>Entwodiksyon Nan Syans Done</td>\n",
              "      <td>1100636.0</td>\n",
              "      <td>20.0</td>\n",
              "      <td>2000.0</td>\n",
              "      <td>False</td>\n",
              "      <td>NaN</td>\n",
              "      <td>NaN</td>\n",
              "      <td>NaN</td>\n",
              "      <td>Complete</td>\n",
              "      <td>906968f5-ce95-11eb-9e1a-7c67a234f601</td>\n",
              "      <td>NaN</td>\n",
              "      <td>NaN</td>\n",
              "      <td>NaN</td>\n",
              "      <td>yes</td>\n",
              "    </tr>\n",
              "    <tr>\n",
              "      <th>3</th>\n",
              "      <td>3</td>\n",
              "      <td>2021-03-12T14:23:11.154Z</td>\n",
              "      <td>40284930</td>\n",
              "      <td>Entwodiksyon Nan Syans Done</td>\n",
              "      <td>1100636.0</td>\n",
              "      <td>0.0</td>\n",
              "      <td>0.0</td>\n",
              "      <td>False</td>\n",
              "      <td>impact_hub_coupon</td>\n",
              "      <td>6658457.0</td>\n",
              "      <td>NaN</td>\n",
              "      <td>Complete</td>\n",
              "      <td>9060477c-ce95-11eb-ace3-7c67a234f601</td>\n",
              "      <td>NaN</td>\n",
              "      <td>NaN</td>\n",
              "      <td>NaN</td>\n",
              "      <td>yes</td>\n",
              "    </tr>\n",
              "    <tr>\n",
              "      <th>4</th>\n",
              "      <td>4</td>\n",
              "      <td>2021-03-11T16:01:17.901Z</td>\n",
              "      <td>40281483</td>\n",
              "      <td>Entwodiksyon Nan Syans Done</td>\n",
              "      <td>1100636.0</td>\n",
              "      <td>20.0</td>\n",
              "      <td>2000.0</td>\n",
              "      <td>False</td>\n",
              "      <td>NaN</td>\n",
              "      <td>NaN</td>\n",
              "      <td>NaN</td>\n",
              "      <td>Complete</td>\n",
              "      <td>9064ff29-ce95-11eb-a3d3-7c67a234f601</td>\n",
              "      <td>NaN</td>\n",
              "      <td>NaN</td>\n",
              "      <td>NaN</td>\n",
              "      <td>yes</td>\n",
              "    </tr>\n",
              "    <tr>\n",
              "      <th>...</th>\n",
              "      <td>...</td>\n",
              "      <td>...</td>\n",
              "      <td>...</td>\n",
              "      <td>...</td>\n",
              "      <td>...</td>\n",
              "      <td>...</td>\n",
              "      <td>...</td>\n",
              "      <td>...</td>\n",
              "      <td>...</td>\n",
              "      <td>...</td>\n",
              "      <td>...</td>\n",
              "      <td>...</td>\n",
              "      <td>...</td>\n",
              "      <td>...</td>\n",
              "      <td>...</td>\n",
              "      <td>...</td>\n",
              "      <td>...</td>\n",
              "    </tr>\n",
              "    <tr>\n",
              "      <th>55</th>\n",
              "      <td>55</td>\n",
              "      <td>2021-03-13T00:48:13.726Z</td>\n",
              "      <td>40008926</td>\n",
              "      <td>NaN</td>\n",
              "      <td>NaN</td>\n",
              "      <td>NaN</td>\n",
              "      <td>NaN</td>\n",
              "      <td>NaN</td>\n",
              "      <td>NaN</td>\n",
              "      <td>NaN</td>\n",
              "      <td>NaN</td>\n",
              "      <td>NaN</td>\n",
              "      <td>NaN</td>\n",
              "      <td>2021-03-13T00:48:13.726Z</td>\n",
              "      <td>1047613.0</td>\n",
              "      <td>4.676273e+09</td>\n",
              "      <td>yes</td>\n",
              "    </tr>\n",
              "    <tr>\n",
              "      <th>56</th>\n",
              "      <td>56</td>\n",
              "      <td>2021-03-13T03:54:12.406Z</td>\n",
              "      <td>41328544</td>\n",
              "      <td>NaN</td>\n",
              "      <td>NaN</td>\n",
              "      <td>NaN</td>\n",
              "      <td>NaN</td>\n",
              "      <td>NaN</td>\n",
              "      <td>NaN</td>\n",
              "      <td>NaN</td>\n",
              "      <td>NaN</td>\n",
              "      <td>NaN</td>\n",
              "      <td>NaN</td>\n",
              "      <td>2021-03-13T03:54:12.406Z</td>\n",
              "      <td>1047613.0</td>\n",
              "      <td>4.676841e+09</td>\n",
              "      <td>yes</td>\n",
              "    </tr>\n",
              "    <tr>\n",
              "      <th>57</th>\n",
              "      <td>57</td>\n",
              "      <td>2021-03-14T02:16:08.983Z</td>\n",
              "      <td>41508160</td>\n",
              "      <td>NaN</td>\n",
              "      <td>NaN</td>\n",
              "      <td>NaN</td>\n",
              "      <td>NaN</td>\n",
              "      <td>NaN</td>\n",
              "      <td>NaN</td>\n",
              "      <td>NaN</td>\n",
              "      <td>NaN</td>\n",
              "      <td>NaN</td>\n",
              "      <td>NaN</td>\n",
              "      <td>2021-03-14T02:16:08.983Z</td>\n",
              "      <td>1047613.0</td>\n",
              "      <td>4.684297e+09</td>\n",
              "      <td>yes</td>\n",
              "    </tr>\n",
              "    <tr>\n",
              "      <th>58</th>\n",
              "      <td>58</td>\n",
              "      <td>2021-03-14T07:34:09.638Z</td>\n",
              "      <td>41569249</td>\n",
              "      <td>NaN</td>\n",
              "      <td>NaN</td>\n",
              "      <td>NaN</td>\n",
              "      <td>NaN</td>\n",
              "      <td>NaN</td>\n",
              "      <td>NaN</td>\n",
              "      <td>NaN</td>\n",
              "      <td>NaN</td>\n",
              "      <td>NaN</td>\n",
              "      <td>NaN</td>\n",
              "      <td>2021-03-14T07:34:09.638Z</td>\n",
              "      <td>1047613.0</td>\n",
              "      <td>4.684608e+09</td>\n",
              "      <td>yes</td>\n",
              "    </tr>\n",
              "    <tr>\n",
              "      <th>59</th>\n",
              "      <td>59</td>\n",
              "      <td>2021-03-14T17:34:45.179Z</td>\n",
              "      <td>41592698</td>\n",
              "      <td>NaN</td>\n",
              "      <td>NaN</td>\n",
              "      <td>NaN</td>\n",
              "      <td>NaN</td>\n",
              "      <td>NaN</td>\n",
              "      <td>NaN</td>\n",
              "      <td>NaN</td>\n",
              "      <td>NaN</td>\n",
              "      <td>NaN</td>\n",
              "      <td>NaN</td>\n",
              "      <td>2021-03-14T17:34:45.179Z</td>\n",
              "      <td>1047613.0</td>\n",
              "      <td>4.687104e+09</td>\n",
              "      <td>yes</td>\n",
              "    </tr>\n",
              "  </tbody>\n",
              "</table>\n",
              "<p>78 rows × 17 columns</p>\n",
              "</div>"
            ],
            "text/plain": [
              "    Unnamed: 0                created_at   user_id  \\\n",
              "0            0  2021-03-14T15:34:35.014Z  41587952   \n",
              "1            1  2021-03-14T04:20:23.483Z  41564742   \n",
              "2            2  2021-03-12T19:29:22.832Z  41501853   \n",
              "3            3  2021-03-12T14:23:11.154Z  40284930   \n",
              "4            4  2021-03-11T16:01:17.901Z  40281483   \n",
              "..         ...                       ...       ...   \n",
              "55          55  2021-03-13T00:48:13.726Z  40008926   \n",
              "56          56  2021-03-13T03:54:12.406Z  41328544   \n",
              "57          57  2021-03-14T02:16:08.983Z  41508160   \n",
              "58          58  2021-03-14T07:34:09.638Z  41569249   \n",
              "59          59  2021-03-14T17:34:45.179Z  41592698   \n",
              "\n",
              "                   product_name  product_id  amount_dollars  amount_cents  \\\n",
              "0   Entwodiksyon Nan Syans Done   1100636.0            20.0        2000.0   \n",
              "1   Entwodiksyon Nan Syans Done   1100636.0            20.0        2000.0   \n",
              "2   Entwodiksyon Nan Syans Done   1100636.0            20.0        2000.0   \n",
              "3   Entwodiksyon Nan Syans Done   1100636.0             0.0           0.0   \n",
              "4   Entwodiksyon Nan Syans Done   1100636.0            20.0        2000.0   \n",
              "..                          ...         ...             ...           ...   \n",
              "55                          NaN         NaN             NaN           NaN   \n",
              "56                          NaN         NaN             NaN           NaN   \n",
              "57                          NaN         NaN             NaN           NaN   \n",
              "58                          NaN         NaN             NaN           NaN   \n",
              "59                          NaN         NaN             NaN           NaN   \n",
              "\n",
              "   subscription        coupon_code  coupon_id  affiliate_referral_code  \\\n",
              "0         False                NaN        NaN                      NaN   \n",
              "1         False                NaN        NaN                      NaN   \n",
              "2         False                NaN        NaN                      NaN   \n",
              "3         False  impact_hub_coupon  6658457.0                      NaN   \n",
              "4         False                NaN        NaN                      NaN   \n",
              "..          ...                ...        ...                      ...   \n",
              "55          NaN                NaN        NaN                      NaN   \n",
              "56          NaN                NaN        NaN                      NaN   \n",
              "57          NaN                NaN        NaN                      NaN   \n",
              "58          NaN                NaN        NaN                      NaN   \n",
              "59          NaN                NaN        NaN                      NaN   \n",
              "\n",
              "      status                              quest_id               modified_at  \\\n",
              "0   Complete  906b3c86-ce95-11eb-b6a7-7c67a234f601                       NaN   \n",
              "1   Complete  906636cf-ce95-11eb-8679-7c67a234f601                       NaN   \n",
              "2   Complete  906968f5-ce95-11eb-9e1a-7c67a234f601                       NaN   \n",
              "3   Complete  9060477c-ce95-11eb-ace3-7c67a234f601                       NaN   \n",
              "4   Complete  9064ff29-ce95-11eb-a3d3-7c67a234f601                       NaN   \n",
              "..       ...                                   ...                       ...   \n",
              "55       NaN                                   NaN  2021-03-13T00:48:13.726Z   \n",
              "56       NaN                                   NaN  2021-03-13T03:54:12.406Z   \n",
              "57       NaN                                   NaN  2021-03-14T02:16:08.983Z   \n",
              "58       NaN                                   NaN  2021-03-14T07:34:09.638Z   \n",
              "59       NaN                                   NaN  2021-03-14T17:34:45.179Z   \n",
              "\n",
              "    course_id  transaction_id payed  \n",
              "0         NaN             NaN   yes  \n",
              "1         NaN             NaN   yes  \n",
              "2         NaN             NaN   yes  \n",
              "3         NaN             NaN   yes  \n",
              "4         NaN             NaN   yes  \n",
              "..        ...             ...   ...  \n",
              "55  1047613.0    4.676273e+09   yes  \n",
              "56  1047613.0    4.676841e+09   yes  \n",
              "57  1047613.0    4.684297e+09   yes  \n",
              "58  1047613.0    4.684608e+09   yes  \n",
              "59  1047613.0    4.687104e+09   yes  \n",
              "\n",
              "[78 rows x 17 columns]"
            ]
          },
          "execution_count": 254,
          "metadata": {},
          "output_type": "execute_result"
        }
      ],
      "source": [
        "df4"
      ]
    },
    {
      "cell_type": "code",
      "execution_count": 255,
      "metadata": {},
      "outputs": [],
      "source": [
        "df4.rename(columns={\"created_at\":\"Payment_Date\"}, inplace=True)"
      ]
    },
    {
      "cell_type": "code",
      "execution_count": 256,
      "metadata": {},
      "outputs": [
        {
          "data": {
            "text/html": [
              "<div>\n",
              "<style scoped>\n",
              "    .dataframe tbody tr th:only-of-type {\n",
              "        vertical-align: middle;\n",
              "    }\n",
              "\n",
              "    .dataframe tbody tr th {\n",
              "        vertical-align: top;\n",
              "    }\n",
              "\n",
              "    .dataframe thead th {\n",
              "        text-align: right;\n",
              "    }\n",
              "</style>\n",
              "<table border=\"1\" class=\"dataframe\">\n",
              "  <thead>\n",
              "    <tr style=\"text-align: right;\">\n",
              "      <th></th>\n",
              "      <th>Unnamed: 0</th>\n",
              "      <th>Payment_Date</th>\n",
              "      <th>user_id</th>\n",
              "      <th>product_name</th>\n",
              "      <th>product_id</th>\n",
              "      <th>amount_dollars</th>\n",
              "      <th>amount_cents</th>\n",
              "      <th>subscription</th>\n",
              "      <th>coupon_code</th>\n",
              "      <th>coupon_id</th>\n",
              "      <th>affiliate_referral_code</th>\n",
              "      <th>status</th>\n",
              "      <th>quest_id</th>\n",
              "      <th>modified_at</th>\n",
              "      <th>course_id</th>\n",
              "      <th>transaction_id</th>\n",
              "      <th>payed</th>\n",
              "    </tr>\n",
              "  </thead>\n",
              "  <tbody>\n",
              "    <tr>\n",
              "      <th>0</th>\n",
              "      <td>0</td>\n",
              "      <td>2021-03-14T15:34:35.014Z</td>\n",
              "      <td>41587952</td>\n",
              "      <td>Entwodiksyon Nan Syans Done</td>\n",
              "      <td>1100636.0</td>\n",
              "      <td>20.0</td>\n",
              "      <td>2000.0</td>\n",
              "      <td>False</td>\n",
              "      <td>NaN</td>\n",
              "      <td>NaN</td>\n",
              "      <td>NaN</td>\n",
              "      <td>Complete</td>\n",
              "      <td>906b3c86-ce95-11eb-b6a7-7c67a234f601</td>\n",
              "      <td>NaN</td>\n",
              "      <td>NaN</td>\n",
              "      <td>NaN</td>\n",
              "      <td>yes</td>\n",
              "    </tr>\n",
              "    <tr>\n",
              "      <th>1</th>\n",
              "      <td>1</td>\n",
              "      <td>2021-03-14T04:20:23.483Z</td>\n",
              "      <td>41564742</td>\n",
              "      <td>Entwodiksyon Nan Syans Done</td>\n",
              "      <td>1100636.0</td>\n",
              "      <td>20.0</td>\n",
              "      <td>2000.0</td>\n",
              "      <td>False</td>\n",
              "      <td>NaN</td>\n",
              "      <td>NaN</td>\n",
              "      <td>NaN</td>\n",
              "      <td>Complete</td>\n",
              "      <td>906636cf-ce95-11eb-8679-7c67a234f601</td>\n",
              "      <td>NaN</td>\n",
              "      <td>NaN</td>\n",
              "      <td>NaN</td>\n",
              "      <td>yes</td>\n",
              "    </tr>\n",
              "  </tbody>\n",
              "</table>\n",
              "</div>"
            ],
            "text/plain": [
              "   Unnamed: 0              Payment_Date   user_id  \\\n",
              "0           0  2021-03-14T15:34:35.014Z  41587952   \n",
              "1           1  2021-03-14T04:20:23.483Z  41564742   \n",
              "\n",
              "                  product_name  product_id  amount_dollars  amount_cents  \\\n",
              "0  Entwodiksyon Nan Syans Done   1100636.0            20.0        2000.0   \n",
              "1  Entwodiksyon Nan Syans Done   1100636.0            20.0        2000.0   \n",
              "\n",
              "  subscription coupon_code  coupon_id  affiliate_referral_code    status  \\\n",
              "0        False         NaN        NaN                      NaN  Complete   \n",
              "1        False         NaN        NaN                      NaN  Complete   \n",
              "\n",
              "                               quest_id modified_at  course_id  \\\n",
              "0  906b3c86-ce95-11eb-b6a7-7c67a234f601         NaN        NaN   \n",
              "1  906636cf-ce95-11eb-8679-7c67a234f601         NaN        NaN   \n",
              "\n",
              "   transaction_id payed  \n",
              "0             NaN   yes  \n",
              "1             NaN   yes  "
            ]
          },
          "execution_count": 256,
          "metadata": {},
          "output_type": "execute_result"
        }
      ],
      "source": [
        "df4.head(2)"
      ]
    },
    {
      "cell_type": "code",
      "execution_count": 257,
      "metadata": {},
      "outputs": [
        {
          "data": {
            "text/plain": [
              "0     2021-03-14T15:34:35.014Z\n",
              "1     2021-03-14T04:20:23.483Z\n",
              "2     2021-03-12T19:29:22.832Z\n",
              "3     2021-03-12T14:23:11.154Z\n",
              "4     2021-03-11T16:01:17.901Z\n",
              "                ...           \n",
              "55    2021-03-13T00:48:13.726Z\n",
              "56    2021-03-13T03:54:12.406Z\n",
              "57    2021-03-14T02:16:08.983Z\n",
              "58    2021-03-14T07:34:09.638Z\n",
              "59    2021-03-14T17:34:45.179Z\n",
              "Name: Payment_Date, Length: 78, dtype: object"
            ]
          },
          "execution_count": 257,
          "metadata": {},
          "output_type": "execute_result"
        }
      ],
      "source": [
        "df4[\"Payment_Date\"]"
      ]
    },
    {
      "cell_type": "code",
      "execution_count": 258,
      "metadata": {},
      "outputs": [],
      "source": [
        "df4=df4.loc[:,[\"Payment_Date\",\"quest_id\",\"payed\"]]"
      ]
    },
    {
      "cell_type": "code",
      "execution_count": 259,
      "metadata": {},
      "outputs": [
        {
          "data": {
            "text/html": [
              "<div>\n",
              "<style scoped>\n",
              "    .dataframe tbody tr th:only-of-type {\n",
              "        vertical-align: middle;\n",
              "    }\n",
              "\n",
              "    .dataframe tbody tr th {\n",
              "        vertical-align: top;\n",
              "    }\n",
              "\n",
              "    .dataframe thead th {\n",
              "        text-align: right;\n",
              "    }\n",
              "</style>\n",
              "<table border=\"1\" class=\"dataframe\">\n",
              "  <thead>\n",
              "    <tr style=\"text-align: right;\">\n",
              "      <th></th>\n",
              "      <th>Payment_Date</th>\n",
              "      <th>quest_id</th>\n",
              "      <th>payed</th>\n",
              "    </tr>\n",
              "  </thead>\n",
              "  <tbody>\n",
              "    <tr>\n",
              "      <th>0</th>\n",
              "      <td>2021-03-14T15:34:35.014Z</td>\n",
              "      <td>906b3c86-ce95-11eb-b6a7-7c67a234f601</td>\n",
              "      <td>yes</td>\n",
              "    </tr>\n",
              "    <tr>\n",
              "      <th>1</th>\n",
              "      <td>2021-03-14T04:20:23.483Z</td>\n",
              "      <td>906636cf-ce95-11eb-8679-7c67a234f601</td>\n",
              "      <td>yes</td>\n",
              "    </tr>\n",
              "  </tbody>\n",
              "</table>\n",
              "</div>"
            ],
            "text/plain": [
              "               Payment_Date                              quest_id payed\n",
              "0  2021-03-14T15:34:35.014Z  906b3c86-ce95-11eb-b6a7-7c67a234f601   yes\n",
              "1  2021-03-14T04:20:23.483Z  906636cf-ce95-11eb-8679-7c67a234f601   yes"
            ]
          },
          "execution_count": 259,
          "metadata": {},
          "output_type": "execute_result"
        }
      ],
      "source": [
        "df4.head(2)"
      ]
    },
    {
      "cell_type": "code",
      "execution_count": 260,
      "metadata": {
        "colab": {
          "base_uri": "https://localhost:8080/",
          "height": 440
        },
        "id": "CUTs-fHewyTk",
        "outputId": "fa60a972-2cae-4cd9-c753-5849c80bb869"
      },
      "outputs": [
        {
          "data": {
            "text/html": [
              "<div>\n",
              "<style scoped>\n",
              "    .dataframe tbody tr th:only-of-type {\n",
              "        vertical-align: middle;\n",
              "    }\n",
              "\n",
              "    .dataframe tbody tr th {\n",
              "        vertical-align: top;\n",
              "    }\n",
              "\n",
              "    .dataframe thead th {\n",
              "        text-align: right;\n",
              "    }\n",
              "</style>\n",
              "<table border=\"1\" class=\"dataframe\">\n",
              "  <thead>\n",
              "    <tr style=\"text-align: right;\">\n",
              "      <th></th>\n",
              "      <th>Unnamed: 0_x</th>\n",
              "      <th>gender</th>\n",
              "      <th>dob</th>\n",
              "      <th>commune</th>\n",
              "      <th>created_at_x</th>\n",
              "      <th>modified_at</th>\n",
              "      <th>department</th>\n",
              "      <th>education_level</th>\n",
              "      <th>university</th>\n",
              "      <th>study_domain</th>\n",
              "      <th>...</th>\n",
              "      <th>course_id</th>\n",
              "      <th>percentage_completed</th>\n",
              "      <th>completed_at</th>\n",
              "      <th>expired</th>\n",
              "      <th>is_free_trial</th>\n",
              "      <th>completed</th>\n",
              "      <th>started_at</th>\n",
              "      <th>activated_at</th>\n",
              "      <th>updated_at</th>\n",
              "      <th>is_enroll</th>\n",
              "    </tr>\n",
              "  </thead>\n",
              "  <tbody>\n",
              "    <tr>\n",
              "      <th>0</th>\n",
              "      <td>0</td>\n",
              "      <td>male</td>\n",
              "      <td>25/08/1998</td>\n",
              "      <td>ht0111</td>\n",
              "      <td>2021-02-14T23:03:52.768400Z</td>\n",
              "      <td>2021-02-14T23:03:52.768462Z</td>\n",
              "      <td>NaN</td>\n",
              "      <td>unknown</td>\n",
              "      <td>unknown</td>\n",
              "      <td>[]</td>\n",
              "      <td>...</td>\n",
              "      <td>1047613.0</td>\n",
              "      <td>0.0</td>\n",
              "      <td>NaN</td>\n",
              "      <td>False</td>\n",
              "      <td>True</td>\n",
              "      <td>False</td>\n",
              "      <td>2021-02-17T08:43:53.457Z</td>\n",
              "      <td>NaN</td>\n",
              "      <td>2021-02-17T08:44:09.561Z</td>\n",
              "      <td>yes</td>\n",
              "    </tr>\n",
              "    <tr>\n",
              "      <th>1</th>\n",
              "      <td>1</td>\n",
              "      <td>female</td>\n",
              "      <td>29/09/1996</td>\n",
              "      <td>ht0111</td>\n",
              "      <td>2021-02-16T16:01:10.861844Z</td>\n",
              "      <td>2021-02-16T16:01:10.861899Z</td>\n",
              "      <td>ht01</td>\n",
              "      <td>Bachelors (bacc +4)</td>\n",
              "      <td>other</td>\n",
              "      <td>['other']</td>\n",
              "      <td>...</td>\n",
              "      <td>NaN</td>\n",
              "      <td>NaN</td>\n",
              "      <td>NaN</td>\n",
              "      <td>NaN</td>\n",
              "      <td>NaN</td>\n",
              "      <td>NaN</td>\n",
              "      <td>NaN</td>\n",
              "      <td>NaN</td>\n",
              "      <td>NaN</td>\n",
              "      <td>NaN</td>\n",
              "    </tr>\n",
              "  </tbody>\n",
              "</table>\n",
              "<p>2 rows × 32 columns</p>\n",
              "</div>"
            ],
            "text/plain": [
              "   Unnamed: 0_x  gender         dob commune                 created_at_x  \\\n",
              "0             0    male  25/08/1998  ht0111  2021-02-14T23:03:52.768400Z   \n",
              "1             1  female  29/09/1996  ht0111  2021-02-16T16:01:10.861844Z   \n",
              "\n",
              "                   modified_at department      education_level university  \\\n",
              "0  2021-02-14T23:03:52.768462Z        NaN              unknown    unknown   \n",
              "1  2021-02-16T16:01:10.861899Z       ht01  Bachelors (bacc +4)      other   \n",
              "\n",
              "  study_domain  ...  course_id percentage_completed completed_at expired  \\\n",
              "0           []  ...  1047613.0                  0.0          NaN   False   \n",
              "1    ['other']  ...        NaN                  NaN          NaN     NaN   \n",
              "\n",
              "  is_free_trial completed                started_at  activated_at  \\\n",
              "0          True     False  2021-02-17T08:43:53.457Z           NaN   \n",
              "1           NaN       NaN                       NaN           NaN   \n",
              "\n",
              "                 updated_at is_enroll  \n",
              "0  2021-02-17T08:44:09.561Z       yes  \n",
              "1                       NaN       NaN  \n",
              "\n",
              "[2 rows x 32 columns]"
            ]
          },
          "metadata": {},
          "output_type": "display_data"
        }
      ],
      "source": [
        "df1= merging(x=quest,y=enroll)"
      ]
    },
    {
      "cell_type": "code",
      "execution_count": 261,
      "metadata": {},
      "outputs": [
        {
          "data": {
            "text/html": [
              "<div>\n",
              "<style scoped>\n",
              "    .dataframe tbody tr th:only-of-type {\n",
              "        vertical-align: middle;\n",
              "    }\n",
              "\n",
              "    .dataframe tbody tr th {\n",
              "        vertical-align: top;\n",
              "    }\n",
              "\n",
              "    .dataframe thead th {\n",
              "        text-align: right;\n",
              "    }\n",
              "</style>\n",
              "<table border=\"1\" class=\"dataframe\">\n",
              "  <thead>\n",
              "    <tr style=\"text-align: right;\">\n",
              "      <th></th>\n",
              "      <th>Unnamed: 0_x</th>\n",
              "      <th>gender</th>\n",
              "      <th>dob</th>\n",
              "      <th>commune</th>\n",
              "      <th>created_at_x</th>\n",
              "      <th>modified_at</th>\n",
              "      <th>department</th>\n",
              "      <th>education_level</th>\n",
              "      <th>university</th>\n",
              "      <th>study_domain</th>\n",
              "      <th>...</th>\n",
              "      <th>course_id</th>\n",
              "      <th>percentage_completed</th>\n",
              "      <th>completed_at</th>\n",
              "      <th>expired</th>\n",
              "      <th>is_free_trial</th>\n",
              "      <th>completed</th>\n",
              "      <th>started_at</th>\n",
              "      <th>activated_at</th>\n",
              "      <th>updated_at</th>\n",
              "      <th>is_enroll</th>\n",
              "    </tr>\n",
              "  </thead>\n",
              "  <tbody>\n",
              "    <tr>\n",
              "      <th>0</th>\n",
              "      <td>0</td>\n",
              "      <td>male</td>\n",
              "      <td>25/08/1998</td>\n",
              "      <td>ht0111</td>\n",
              "      <td>2021-02-14T23:03:52.768400Z</td>\n",
              "      <td>2021-02-14T23:03:52.768462Z</td>\n",
              "      <td>NaN</td>\n",
              "      <td>unknown</td>\n",
              "      <td>unknown</td>\n",
              "      <td>[]</td>\n",
              "      <td>...</td>\n",
              "      <td>1047613.0</td>\n",
              "      <td>0.0</td>\n",
              "      <td>NaN</td>\n",
              "      <td>False</td>\n",
              "      <td>True</td>\n",
              "      <td>False</td>\n",
              "      <td>2021-02-17T08:43:53.457Z</td>\n",
              "      <td>NaN</td>\n",
              "      <td>2021-02-17T08:44:09.561Z</td>\n",
              "      <td>yes</td>\n",
              "    </tr>\n",
              "    <tr>\n",
              "      <th>1</th>\n",
              "      <td>1</td>\n",
              "      <td>female</td>\n",
              "      <td>29/09/1996</td>\n",
              "      <td>ht0111</td>\n",
              "      <td>2021-02-16T16:01:10.861844Z</td>\n",
              "      <td>2021-02-16T16:01:10.861899Z</td>\n",
              "      <td>ht01</td>\n",
              "      <td>Bachelors (bacc +4)</td>\n",
              "      <td>other</td>\n",
              "      <td>['other']</td>\n",
              "      <td>...</td>\n",
              "      <td>NaN</td>\n",
              "      <td>NaN</td>\n",
              "      <td>NaN</td>\n",
              "      <td>NaN</td>\n",
              "      <td>NaN</td>\n",
              "      <td>NaN</td>\n",
              "      <td>NaN</td>\n",
              "      <td>NaN</td>\n",
              "      <td>NaN</td>\n",
              "      <td>NaN</td>\n",
              "    </tr>\n",
              "  </tbody>\n",
              "</table>\n",
              "<p>2 rows × 32 columns</p>\n",
              "</div>"
            ],
            "text/plain": [
              "   Unnamed: 0_x  gender         dob commune                 created_at_x  \\\n",
              "0             0    male  25/08/1998  ht0111  2021-02-14T23:03:52.768400Z   \n",
              "1             1  female  29/09/1996  ht0111  2021-02-16T16:01:10.861844Z   \n",
              "\n",
              "                   modified_at department      education_level university  \\\n",
              "0  2021-02-14T23:03:52.768462Z        NaN              unknown    unknown   \n",
              "1  2021-02-16T16:01:10.861899Z       ht01  Bachelors (bacc +4)      other   \n",
              "\n",
              "  study_domain  ...  course_id percentage_completed completed_at expired  \\\n",
              "0           []  ...  1047613.0                  0.0          NaN   False   \n",
              "1    ['other']  ...        NaN                  NaN          NaN     NaN   \n",
              "\n",
              "  is_free_trial completed                started_at  activated_at  \\\n",
              "0          True     False  2021-02-17T08:43:53.457Z           NaN   \n",
              "1           NaN       NaN                       NaN           NaN   \n",
              "\n",
              "                 updated_at is_enroll  \n",
              "0  2021-02-17T08:44:09.561Z       yes  \n",
              "1                       NaN       NaN  \n",
              "\n",
              "[2 rows x 32 columns]"
            ]
          },
          "execution_count": 261,
          "metadata": {},
          "output_type": "execute_result"
        }
      ],
      "source": [
        "df1.head(2)"
      ]
    },
    {
      "cell_type": "code",
      "execution_count": 262,
      "metadata": {
        "colab": {
          "base_uri": "https://localhost:8080/",
          "height": 238
        },
        "id": "im4Q9OOLKbbN",
        "outputId": "d68b1105-f47b-41ec-b2d0-229c1f392cf7"
      },
      "outputs": [
        {
          "data": {
            "text/html": [
              "<div>\n",
              "<style scoped>\n",
              "    .dataframe tbody tr th:only-of-type {\n",
              "        vertical-align: middle;\n",
              "    }\n",
              "\n",
              "    .dataframe tbody tr th {\n",
              "        vertical-align: top;\n",
              "    }\n",
              "\n",
              "    .dataframe thead th {\n",
              "        text-align: right;\n",
              "    }\n",
              "</style>\n",
              "<table border=\"1\" class=\"dataframe\">\n",
              "  <thead>\n",
              "    <tr style=\"text-align: right;\">\n",
              "      <th></th>\n",
              "      <th>Unnamed: 0_x</th>\n",
              "      <th>gender</th>\n",
              "      <th>dob</th>\n",
              "      <th>commune</th>\n",
              "      <th>application_date</th>\n",
              "      <th>modified_at</th>\n",
              "      <th>department</th>\n",
              "      <th>education_level</th>\n",
              "      <th>university</th>\n",
              "      <th>study_domain</th>\n",
              "      <th>...</th>\n",
              "      <th>course_id</th>\n",
              "      <th>percentage_completed</th>\n",
              "      <th>completed_at</th>\n",
              "      <th>expired</th>\n",
              "      <th>is_free_trial</th>\n",
              "      <th>completed</th>\n",
              "      <th>started_at</th>\n",
              "      <th>activated_at</th>\n",
              "      <th>updated_at</th>\n",
              "      <th>is_enroll</th>\n",
              "    </tr>\n",
              "  </thead>\n",
              "  <tbody>\n",
              "    <tr>\n",
              "      <th>0</th>\n",
              "      <td>0</td>\n",
              "      <td>male</td>\n",
              "      <td>25/08/1998</td>\n",
              "      <td>ht0111</td>\n",
              "      <td>2021-02-14T23:03:52.768400Z</td>\n",
              "      <td>2021-02-14T23:03:52.768462Z</td>\n",
              "      <td>NaN</td>\n",
              "      <td>unknown</td>\n",
              "      <td>unknown</td>\n",
              "      <td>[]</td>\n",
              "      <td>...</td>\n",
              "      <td>1047613.0</td>\n",
              "      <td>0.0</td>\n",
              "      <td>NaN</td>\n",
              "      <td>False</td>\n",
              "      <td>True</td>\n",
              "      <td>False</td>\n",
              "      <td>2021-02-17T08:43:53.457Z</td>\n",
              "      <td>NaN</td>\n",
              "      <td>2021-02-17T08:44:09.561Z</td>\n",
              "      <td>yes</td>\n",
              "    </tr>\n",
              "    <tr>\n",
              "      <th>1</th>\n",
              "      <td>1</td>\n",
              "      <td>female</td>\n",
              "      <td>29/09/1996</td>\n",
              "      <td>ht0111</td>\n",
              "      <td>2021-02-16T16:01:10.861844Z</td>\n",
              "      <td>2021-02-16T16:01:10.861899Z</td>\n",
              "      <td>ht01</td>\n",
              "      <td>Bachelors (bacc +4)</td>\n",
              "      <td>other</td>\n",
              "      <td>['other']</td>\n",
              "      <td>...</td>\n",
              "      <td>NaN</td>\n",
              "      <td>NaN</td>\n",
              "      <td>NaN</td>\n",
              "      <td>NaN</td>\n",
              "      <td>NaN</td>\n",
              "      <td>NaN</td>\n",
              "      <td>NaN</td>\n",
              "      <td>NaN</td>\n",
              "      <td>NaN</td>\n",
              "      <td>NaN</td>\n",
              "    </tr>\n",
              "  </tbody>\n",
              "</table>\n",
              "<p>2 rows × 32 columns</p>\n",
              "</div>"
            ],
            "text/plain": [
              "   Unnamed: 0_x  gender         dob commune             application_date  \\\n",
              "0             0    male  25/08/1998  ht0111  2021-02-14T23:03:52.768400Z   \n",
              "1             1  female  29/09/1996  ht0111  2021-02-16T16:01:10.861844Z   \n",
              "\n",
              "                   modified_at department      education_level university  \\\n",
              "0  2021-02-14T23:03:52.768462Z        NaN              unknown    unknown   \n",
              "1  2021-02-16T16:01:10.861899Z       ht01  Bachelors (bacc +4)      other   \n",
              "\n",
              "  study_domain  ...  course_id percentage_completed completed_at expired  \\\n",
              "0           []  ...  1047613.0                  0.0          NaN   False   \n",
              "1    ['other']  ...        NaN                  NaN          NaN     NaN   \n",
              "\n",
              "  is_free_trial completed                started_at  activated_at  \\\n",
              "0          True     False  2021-02-17T08:43:53.457Z           NaN   \n",
              "1           NaN       NaN                       NaN           NaN   \n",
              "\n",
              "                 updated_at is_enroll  \n",
              "0  2021-02-17T08:44:09.561Z       yes  \n",
              "1                       NaN       NaN  \n",
              "\n",
              "[2 rows x 32 columns]"
            ]
          },
          "execution_count": 262,
          "metadata": {},
          "output_type": "execute_result"
        }
      ],
      "source": [
        "df1.rename(columns={\"created_at_x\":\"application_date\",\"created_at_y\":\"enroll_date\"},inplace=True)\r\n",
        "df1.head(2)"
      ]
    },
    {
      "cell_type": "code",
      "execution_count": 263,
      "metadata": {
        "id": "XOeq_jYkeo5k"
      },
      "outputs": [],
      "source": [
        "df1[\"is_enroll\"] = df1[\"is_enroll\"].fillna(\"No\")"
      ]
    },
    {
      "cell_type": "code",
      "execution_count": 264,
      "metadata": {
        "colab": {
          "base_uri": "https://localhost:8080/"
        },
        "id": "EhXs4ea0SC2i",
        "outputId": "ddcc08cf-898f-4625-d91b-1875d136e95d"
      },
      "outputs": [
        {
          "name": "stdout",
          "output_type": "stream",
          "text": [
            "<class 'pandas.core.frame.DataFrame'>\n",
            "Int64Index: 250 entries, 0 to 249\n",
            "Data columns (total 32 columns):\n",
            " #   Column                Non-Null Count  Dtype  \n",
            "---  ------                --------------  -----  \n",
            " 0   Unnamed: 0_x          250 non-null    int64  \n",
            " 1   gender                250 non-null    object \n",
            " 2   dob                   244 non-null    object \n",
            " 3   commune               250 non-null    object \n",
            " 4   application_date      250 non-null    object \n",
            " 5   modified_at           250 non-null    object \n",
            " 6   department            249 non-null    object \n",
            " 7   education_level       250 non-null    object \n",
            " 8   university            250 non-null    object \n",
            " 9   study_domain          250 non-null    object \n",
            " 10  current_employed      250 non-null    object \n",
            " 11  formal_sector_job     250 non-null    object \n",
            " 12  have_computer_home    250 non-null    object \n",
            " 13  internet_at_home      250 non-null    object \n",
            " 14  hear_AA_1             250 non-null    object \n",
            " 15  after_AA              250 non-null    object \n",
            " 16  quest_id              250 non-null    object \n",
            " 17  Unnamed: 0_y          102 non-null    float64\n",
            " 18  enroll_date           102 non-null    object \n",
            " 19  expiry_date           51 non-null     object \n",
            " 20  user_id               102 non-null    float64\n",
            " 21  course_name           102 non-null    object \n",
            " 22  course_id             102 non-null    float64\n",
            " 23  percentage_completed  102 non-null    float64\n",
            " 24  completed_at          0 non-null      float64\n",
            " 25  expired               102 non-null    object \n",
            " 26  is_free_trial         102 non-null    object \n",
            " 27  completed             102 non-null    object \n",
            " 28  started_at            100 non-null    object \n",
            " 29  activated_at          65 non-null     object \n",
            " 30  updated_at            102 non-null    object \n",
            " 31  is_enroll             250 non-null    object \n",
            "dtypes: float64(5), int64(1), object(26)\n",
            "memory usage: 64.5+ KB\n"
          ]
        }
      ],
      "source": [
        "df1.info()"
      ]
    },
    {
      "cell_type": "code",
      "execution_count": 265,
      "metadata": {
        "colab": {
          "base_uri": "https://localhost:8080/",
          "height": 222
        },
        "id": "Lg_Iu589yJ51",
        "outputId": "125dfbab-5ea6-4d53-e2ac-60300ef0ad40"
      },
      "outputs": [
        {
          "data": {
            "text/html": [
              "<div>\n",
              "<style scoped>\n",
              "    .dataframe tbody tr th:only-of-type {\n",
              "        vertical-align: middle;\n",
              "    }\n",
              "\n",
              "    .dataframe tbody tr th {\n",
              "        vertical-align: top;\n",
              "    }\n",
              "\n",
              "    .dataframe thead th {\n",
              "        text-align: right;\n",
              "    }\n",
              "</style>\n",
              "<table border=\"1\" class=\"dataframe\">\n",
              "  <thead>\n",
              "    <tr style=\"text-align: right;\">\n",
              "      <th></th>\n",
              "      <th>gender</th>\n",
              "      <th>dob</th>\n",
              "      <th>application_date</th>\n",
              "      <th>education_level</th>\n",
              "      <th>formal_sector_job</th>\n",
              "      <th>have_computer_home</th>\n",
              "      <th>internet_at_home</th>\n",
              "      <th>hear_AA_1</th>\n",
              "      <th>after_AA</th>\n",
              "      <th>quest_id</th>\n",
              "      <th>enroll_date</th>\n",
              "      <th>commune</th>\n",
              "      <th>is_enroll</th>\n",
              "    </tr>\n",
              "  </thead>\n",
              "  <tbody>\n",
              "    <tr>\n",
              "      <th>0</th>\n",
              "      <td>male</td>\n",
              "      <td>25/08/1998</td>\n",
              "      <td>2021-02-14T23:03:52.768400Z</td>\n",
              "      <td>unknown</td>\n",
              "      <td>unknown</td>\n",
              "      <td>unknown</td>\n",
              "      <td>unknown</td>\n",
              "      <td>unknown</td>\n",
              "      <td>unknown</td>\n",
              "      <td>905dc006-ce95-11eb-b2f9-7c67a234f601</td>\n",
              "      <td>2021-02-14T23:15:19.500Z</td>\n",
              "      <td>ht0111</td>\n",
              "      <td>yes</td>\n",
              "    </tr>\n",
              "    <tr>\n",
              "      <th>1</th>\n",
              "      <td>female</td>\n",
              "      <td>29/09/1996</td>\n",
              "      <td>2021-02-16T16:01:10.861844Z</td>\n",
              "      <td>Bachelors (bacc +4)</td>\n",
              "      <td>unknown</td>\n",
              "      <td>Yes</td>\n",
              "      <td>Yes</td>\n",
              "      <td>Friend</td>\n",
              "      <td>Finding a job/internship</td>\n",
              "      <td>905ddcf2-ce95-11eb-9a92-7c67a234f601</td>\n",
              "      <td>NaN</td>\n",
              "      <td>ht0111</td>\n",
              "      <td>No</td>\n",
              "    </tr>\n",
              "  </tbody>\n",
              "</table>\n",
              "</div>"
            ],
            "text/plain": [
              "   gender         dob             application_date      education_level  \\\n",
              "0    male  25/08/1998  2021-02-14T23:03:52.768400Z              unknown   \n",
              "1  female  29/09/1996  2021-02-16T16:01:10.861844Z  Bachelors (bacc +4)   \n",
              "\n",
              "  formal_sector_job have_computer_home internet_at_home hear_AA_1  \\\n",
              "0           unknown            unknown          unknown   unknown   \n",
              "1           unknown                Yes              Yes    Friend   \n",
              "\n",
              "                   after_AA                              quest_id  \\\n",
              "0                   unknown  905dc006-ce95-11eb-b2f9-7c67a234f601   \n",
              "1  Finding a job/internship  905ddcf2-ce95-11eb-9a92-7c67a234f601   \n",
              "\n",
              "                enroll_date commune is_enroll  \n",
              "0  2021-02-14T23:15:19.500Z  ht0111       yes  \n",
              "1                       NaN  ht0111        No  "
            ]
          },
          "execution_count": 265,
          "metadata": {},
          "output_type": "execute_result"
        }
      ],
      "source": [
        "df1=df1.loc[:,[\"gender\",\"dob\",\"application_date\",\"education_level\",\"formal_sector_job\",\"have_computer_home\",\"internet_at_home\",\"hear_AA_1\",\"after_AA\",\"quest_id\",\"enroll_date\",\"commune\",\"is_enroll\"]]\r\n",
        "df1.head(2)"
      ]
    },
    {
      "cell_type": "code",
      "execution_count": 266,
      "metadata": {
        "colab": {
          "base_uri": "https://localhost:8080/",
          "height": 105
        },
        "id": "TOm3LkEx5qyD",
        "outputId": "76defcef-6c33-45c2-95ca-51f34d8aceab"
      },
      "outputs": [
        {
          "data": {
            "text/html": [
              "<div>\n",
              "<style scoped>\n",
              "    .dataframe tbody tr th:only-of-type {\n",
              "        vertical-align: middle;\n",
              "    }\n",
              "\n",
              "    .dataframe tbody tr th {\n",
              "        vertical-align: top;\n",
              "    }\n",
              "\n",
              "    .dataframe thead th {\n",
              "        text-align: right;\n",
              "    }\n",
              "</style>\n",
              "<table border=\"1\" class=\"dataframe\">\n",
              "  <thead>\n",
              "    <tr style=\"text-align: right;\">\n",
              "      <th></th>\n",
              "      <th>Commune_en</th>\n",
              "      <th>Commune_FR</th>\n",
              "      <th>commune</th>\n",
              "      <th>Departement</th>\n",
              "      <th>ADM1_PCODE</th>\n",
              "    </tr>\n",
              "  </thead>\n",
              "  <tbody>\n",
              "    <tr>\n",
              "      <th>0</th>\n",
              "      <td>Abricots</td>\n",
              "      <td>Abricots</td>\n",
              "      <td>ht0812</td>\n",
              "      <td>Grande'Anse</td>\n",
              "      <td>HT08</td>\n",
              "    </tr>\n",
              "    <tr>\n",
              "      <th>1</th>\n",
              "      <td>Acul du Nord</td>\n",
              "      <td>Acul du Nord</td>\n",
              "      <td>ht0321</td>\n",
              "      <td>North</td>\n",
              "      <td>HT03</td>\n",
              "    </tr>\n",
              "  </tbody>\n",
              "</table>\n",
              "</div>"
            ],
            "text/plain": [
              "     Commune_en    Commune_FR commune  Departement ADM1_PCODE\n",
              "0      Abricots      Abricots  ht0812  Grande'Anse       HT08\n",
              "1  Acul du Nord  Acul du Nord  ht0321        North       HT03"
            ]
          },
          "execution_count": 266,
          "metadata": {},
          "output_type": "execute_result"
        }
      ],
      "source": [
        "commune[\"Commune_Id\"] = commune[\"Commune_Id\"].str.lower()\r\n",
        "commune.rename (columns={\"Commune_Id\":\"commune\"},inplace=True)\r\n",
        "#commune[\"ADM1_PCODE\"] = commune[\"ADM1_PCODE\"].str.lower()\r\n",
        "commune.head(2)\r\n",
        "#commune = commune.loc[:,[\"Commune_FR\"]]\r\n"
      ]
    },
    {
      "cell_type": "code",
      "execution_count": 267,
      "metadata": {
        "colab": {
          "base_uri": "https://localhost:8080/"
        },
        "id": "8DgBY3nQ59Fn",
        "outputId": "40e5fae9-0b35-4cc3-d23d-39ccbbab16cd"
      },
      "outputs": [
        {
          "data": {
            "text/plain": [
              "(250, 14)"
            ]
          },
          "execution_count": 267,
          "metadata": {},
          "output_type": "execute_result"
        }
      ],
      "source": [
        "df2= pd.merge(left=df1, right=commune[[\"commune\",\"Commune_FR\"]], how=\"left\", on=\"commune\")\r\n",
        "df2.shape"
      ]
    },
    {
      "cell_type": "code",
      "execution_count": 268,
      "metadata": {},
      "outputs": [
        {
          "data": {
            "text/html": [
              "<div>\n",
              "<style scoped>\n",
              "    .dataframe tbody tr th:only-of-type {\n",
              "        vertical-align: middle;\n",
              "    }\n",
              "\n",
              "    .dataframe tbody tr th {\n",
              "        vertical-align: top;\n",
              "    }\n",
              "\n",
              "    .dataframe thead th {\n",
              "        text-align: right;\n",
              "    }\n",
              "</style>\n",
              "<table border=\"1\" class=\"dataframe\">\n",
              "  <thead>\n",
              "    <tr style=\"text-align: right;\">\n",
              "      <th></th>\n",
              "      <th>Bash</th>\n",
              "      <th>Excel</th>\n",
              "      <th>Git</th>\n",
              "      <th>Java</th>\n",
              "      <th>JavaScript</th>\n",
              "      <th>PHP</th>\n",
              "      <th>PowerBI or Tableau</th>\n",
              "      <th>Python</th>\n",
              "      <th>R</th>\n",
              "      <th>SQL</th>\n",
              "      <th>VBA</th>\n",
              "      <th>other</th>\n",
              "    </tr>\n",
              "    <tr>\n",
              "      <th>quest_id</th>\n",
              "      <th></th>\n",
              "      <th></th>\n",
              "      <th></th>\n",
              "      <th></th>\n",
              "      <th></th>\n",
              "      <th></th>\n",
              "      <th></th>\n",
              "      <th></th>\n",
              "      <th></th>\n",
              "      <th></th>\n",
              "      <th></th>\n",
              "      <th></th>\n",
              "    </tr>\n",
              "  </thead>\n",
              "  <tbody>\n",
              "    <tr>\n",
              "      <th>905ddcf2-ce95-11eb-9a92-7c67a234f601</th>\n",
              "      <td>0</td>\n",
              "      <td>1</td>\n",
              "      <td>0</td>\n",
              "      <td>0</td>\n",
              "      <td>0</td>\n",
              "      <td>0</td>\n",
              "      <td>0</td>\n",
              "      <td>0</td>\n",
              "      <td>1</td>\n",
              "      <td>0</td>\n",
              "      <td>0</td>\n",
              "      <td>0</td>\n",
              "    </tr>\n",
              "    <tr>\n",
              "      <th>905e2608-ce95-11eb-809f-7c67a234f601</th>\n",
              "      <td>1</td>\n",
              "      <td>1</td>\n",
              "      <td>1</td>\n",
              "      <td>1</td>\n",
              "      <td>1</td>\n",
              "      <td>0</td>\n",
              "      <td>0</td>\n",
              "      <td>1</td>\n",
              "      <td>0</td>\n",
              "      <td>1</td>\n",
              "      <td>0</td>\n",
              "      <td>0</td>\n",
              "    </tr>\n",
              "    <tr>\n",
              "      <th>905e4cf5-ce95-11eb-96a9-7c67a234f601</th>\n",
              "      <td>0</td>\n",
              "      <td>1</td>\n",
              "      <td>0</td>\n",
              "      <td>1</td>\n",
              "      <td>1</td>\n",
              "      <td>1</td>\n",
              "      <td>0</td>\n",
              "      <td>1</td>\n",
              "      <td>0</td>\n",
              "      <td>0</td>\n",
              "      <td>0</td>\n",
              "      <td>0</td>\n",
              "    </tr>\n",
              "    <tr>\n",
              "      <th>905e73fd-ce95-11eb-a7b0-7c67a234f601</th>\n",
              "      <td>1</td>\n",
              "      <td>0</td>\n",
              "      <td>0</td>\n",
              "      <td>0</td>\n",
              "      <td>0</td>\n",
              "      <td>1</td>\n",
              "      <td>0</td>\n",
              "      <td>0</td>\n",
              "      <td>0</td>\n",
              "      <td>0</td>\n",
              "      <td>0</td>\n",
              "      <td>0</td>\n",
              "    </tr>\n",
              "    <tr>\n",
              "      <th>905e9b27-ce95-11eb-9c37-7c67a234f601</th>\n",
              "      <td>0</td>\n",
              "      <td>1</td>\n",
              "      <td>0</td>\n",
              "      <td>1</td>\n",
              "      <td>1</td>\n",
              "      <td>0</td>\n",
              "      <td>0</td>\n",
              "      <td>1</td>\n",
              "      <td>0</td>\n",
              "      <td>1</td>\n",
              "      <td>0</td>\n",
              "      <td>0</td>\n",
              "    </tr>\n",
              "    <tr>\n",
              "      <th>...</th>\n",
              "      <td>...</td>\n",
              "      <td>...</td>\n",
              "      <td>...</td>\n",
              "      <td>...</td>\n",
              "      <td>...</td>\n",
              "      <td>...</td>\n",
              "      <td>...</td>\n",
              "      <td>...</td>\n",
              "      <td>...</td>\n",
              "      <td>...</td>\n",
              "      <td>...</td>\n",
              "      <td>...</td>\n",
              "    </tr>\n",
              "    <tr>\n",
              "      <th>906b3c84-ce95-11eb-8c2a-7c67a234f601</th>\n",
              "      <td>0</td>\n",
              "      <td>1</td>\n",
              "      <td>0</td>\n",
              "      <td>0</td>\n",
              "      <td>0</td>\n",
              "      <td>0</td>\n",
              "      <td>0</td>\n",
              "      <td>0</td>\n",
              "      <td>0</td>\n",
              "      <td>0</td>\n",
              "      <td>0</td>\n",
              "      <td>0</td>\n",
              "    </tr>\n",
              "    <tr>\n",
              "      <th>906b3c85-ce95-11eb-9b87-7c67a234f601</th>\n",
              "      <td>1</td>\n",
              "      <td>1</td>\n",
              "      <td>1</td>\n",
              "      <td>0</td>\n",
              "      <td>1</td>\n",
              "      <td>0</td>\n",
              "      <td>1</td>\n",
              "      <td>0</td>\n",
              "      <td>0</td>\n",
              "      <td>0</td>\n",
              "      <td>0</td>\n",
              "      <td>0</td>\n",
              "    </tr>\n",
              "    <tr>\n",
              "      <th>906b3c86-ce95-11eb-b6a7-7c67a234f601</th>\n",
              "      <td>0</td>\n",
              "      <td>1</td>\n",
              "      <td>0</td>\n",
              "      <td>0</td>\n",
              "      <td>0</td>\n",
              "      <td>0</td>\n",
              "      <td>1</td>\n",
              "      <td>1</td>\n",
              "      <td>0</td>\n",
              "      <td>1</td>\n",
              "      <td>0</td>\n",
              "      <td>0</td>\n",
              "    </tr>\n",
              "    <tr>\n",
              "      <th>906b65e2-ce95-11eb-8b5c-7c67a234f601</th>\n",
              "      <td>0</td>\n",
              "      <td>0</td>\n",
              "      <td>0</td>\n",
              "      <td>0</td>\n",
              "      <td>0</td>\n",
              "      <td>0</td>\n",
              "      <td>0</td>\n",
              "      <td>0</td>\n",
              "      <td>0</td>\n",
              "      <td>1</td>\n",
              "      <td>0</td>\n",
              "      <td>0</td>\n",
              "    </tr>\n",
              "    <tr>\n",
              "      <th>906b65e3-ce95-11eb-a294-7c67a234f601</th>\n",
              "      <td>0</td>\n",
              "      <td>1</td>\n",
              "      <td>0</td>\n",
              "      <td>0</td>\n",
              "      <td>0</td>\n",
              "      <td>0</td>\n",
              "      <td>0</td>\n",
              "      <td>0</td>\n",
              "      <td>1</td>\n",
              "      <td>0</td>\n",
              "      <td>0</td>\n",
              "      <td>0</td>\n",
              "    </tr>\n",
              "  </tbody>\n",
              "</table>\n",
              "<p>244 rows × 12 columns</p>\n",
              "</div>"
            ],
            "text/plain": [
              "                                      Bash  Excel  Git  Java  JavaScript  PHP  \\\n",
              "quest_id                                                                        \n",
              "905ddcf2-ce95-11eb-9a92-7c67a234f601     0      1    0     0           0    0   \n",
              "905e2608-ce95-11eb-809f-7c67a234f601     1      1    1     1           1    0   \n",
              "905e4cf5-ce95-11eb-96a9-7c67a234f601     0      1    0     1           1    1   \n",
              "905e73fd-ce95-11eb-a7b0-7c67a234f601     1      0    0     0           0    1   \n",
              "905e9b27-ce95-11eb-9c37-7c67a234f601     0      1    0     1           1    0   \n",
              "...                                    ...    ...  ...   ...         ...  ...   \n",
              "906b3c84-ce95-11eb-8c2a-7c67a234f601     0      1    0     0           0    0   \n",
              "906b3c85-ce95-11eb-9b87-7c67a234f601     1      1    1     0           1    0   \n",
              "906b3c86-ce95-11eb-b6a7-7c67a234f601     0      1    0     0           0    0   \n",
              "906b65e2-ce95-11eb-8b5c-7c67a234f601     0      0    0     0           0    0   \n",
              "906b65e3-ce95-11eb-a294-7c67a234f601     0      1    0     0           0    0   \n",
              "\n",
              "                                      PowerBI or Tableau  Python  R  SQL  VBA  \\\n",
              "quest_id                                                                        \n",
              "905ddcf2-ce95-11eb-9a92-7c67a234f601                   0       0  1    0    0   \n",
              "905e2608-ce95-11eb-809f-7c67a234f601                   0       1  0    1    0   \n",
              "905e4cf5-ce95-11eb-96a9-7c67a234f601                   0       1  0    0    0   \n",
              "905e73fd-ce95-11eb-a7b0-7c67a234f601                   0       0  0    0    0   \n",
              "905e9b27-ce95-11eb-9c37-7c67a234f601                   0       1  0    1    0   \n",
              "...                                                  ...     ... ..  ...  ...   \n",
              "906b3c84-ce95-11eb-8c2a-7c67a234f601                   0       0  0    0    0   \n",
              "906b3c85-ce95-11eb-9b87-7c67a234f601                   1       0  0    0    0   \n",
              "906b3c86-ce95-11eb-b6a7-7c67a234f601                   1       1  0    1    0   \n",
              "906b65e2-ce95-11eb-8b5c-7c67a234f601                   0       0  0    1    0   \n",
              "906b65e3-ce95-11eb-a294-7c67a234f601                   0       0  1    0    0   \n",
              "\n",
              "                                      other  \n",
              "quest_id                                     \n",
              "905ddcf2-ce95-11eb-9a92-7c67a234f601      0  \n",
              "905e2608-ce95-11eb-809f-7c67a234f601      0  \n",
              "905e4cf5-ce95-11eb-96a9-7c67a234f601      0  \n",
              "905e73fd-ce95-11eb-a7b0-7c67a234f601      0  \n",
              "905e9b27-ce95-11eb-9c37-7c67a234f601      0  \n",
              "...                                     ...  \n",
              "906b3c84-ce95-11eb-8c2a-7c67a234f601      0  \n",
              "906b3c85-ce95-11eb-9b87-7c67a234f601      0  \n",
              "906b3c86-ce95-11eb-b6a7-7c67a234f601      0  \n",
              "906b65e2-ce95-11eb-8b5c-7c67a234f601      0  \n",
              "906b65e3-ce95-11eb-a294-7c67a234f601      0  \n",
              "\n",
              "[244 rows x 12 columns]"
            ]
          },
          "execution_count": 268,
          "metadata": {},
          "output_type": "execute_result"
        }
      ],
      "source": [
        "techno"
      ]
    },
    {
      "cell_type": "code",
      "execution_count": 269,
      "metadata": {},
      "outputs": [
        {
          "data": {
            "text/html": [
              "<div>\n",
              "<style scoped>\n",
              "    .dataframe tbody tr th:only-of-type {\n",
              "        vertical-align: middle;\n",
              "    }\n",
              "\n",
              "    .dataframe tbody tr th {\n",
              "        vertical-align: top;\n",
              "    }\n",
              "\n",
              "    .dataframe thead th {\n",
              "        text-align: right;\n",
              "    }\n",
              "</style>\n",
              "<table border=\"1\" class=\"dataframe\">\n",
              "  <thead>\n",
              "    <tr style=\"text-align: right;\">\n",
              "      <th></th>\n",
              "      <th>gender</th>\n",
              "      <th>dob</th>\n",
              "      <th>application_date</th>\n",
              "      <th>education_level</th>\n",
              "      <th>formal_sector_job</th>\n",
              "      <th>have_computer_home</th>\n",
              "      <th>internet_at_home</th>\n",
              "      <th>hear_AA_1</th>\n",
              "      <th>after_AA</th>\n",
              "      <th>quest_id</th>\n",
              "      <th>...</th>\n",
              "      <th>Git</th>\n",
              "      <th>Java</th>\n",
              "      <th>JavaScript</th>\n",
              "      <th>PHP</th>\n",
              "      <th>PowerBI or Tableau</th>\n",
              "      <th>Python</th>\n",
              "      <th>R</th>\n",
              "      <th>SQL</th>\n",
              "      <th>VBA</th>\n",
              "      <th>other</th>\n",
              "    </tr>\n",
              "  </thead>\n",
              "  <tbody>\n",
              "    <tr>\n",
              "      <th>0</th>\n",
              "      <td>male</td>\n",
              "      <td>25/08/1998</td>\n",
              "      <td>2021-02-14T23:03:52.768400Z</td>\n",
              "      <td>unknown</td>\n",
              "      <td>unknown</td>\n",
              "      <td>unknown</td>\n",
              "      <td>unknown</td>\n",
              "      <td>unknown</td>\n",
              "      <td>unknown</td>\n",
              "      <td>905dc006-ce95-11eb-b2f9-7c67a234f601</td>\n",
              "      <td>...</td>\n",
              "      <td>NaN</td>\n",
              "      <td>NaN</td>\n",
              "      <td>NaN</td>\n",
              "      <td>NaN</td>\n",
              "      <td>NaN</td>\n",
              "      <td>NaN</td>\n",
              "      <td>NaN</td>\n",
              "      <td>NaN</td>\n",
              "      <td>NaN</td>\n",
              "      <td>NaN</td>\n",
              "    </tr>\n",
              "    <tr>\n",
              "      <th>1</th>\n",
              "      <td>female</td>\n",
              "      <td>29/09/1996</td>\n",
              "      <td>2021-02-16T16:01:10.861844Z</td>\n",
              "      <td>Bachelors (bacc +4)</td>\n",
              "      <td>unknown</td>\n",
              "      <td>Yes</td>\n",
              "      <td>Yes</td>\n",
              "      <td>Friend</td>\n",
              "      <td>Finding a job/internship</td>\n",
              "      <td>905ddcf2-ce95-11eb-9a92-7c67a234f601</td>\n",
              "      <td>...</td>\n",
              "      <td>0.0</td>\n",
              "      <td>0.0</td>\n",
              "      <td>0.0</td>\n",
              "      <td>0.0</td>\n",
              "      <td>0.0</td>\n",
              "      <td>0.0</td>\n",
              "      <td>1.0</td>\n",
              "      <td>0.0</td>\n",
              "      <td>0.0</td>\n",
              "      <td>0.0</td>\n",
              "    </tr>\n",
              "  </tbody>\n",
              "</table>\n",
              "<p>2 rows × 26 columns</p>\n",
              "</div>"
            ],
            "text/plain": [
              "   gender         dob             application_date      education_level  \\\n",
              "0    male  25/08/1998  2021-02-14T23:03:52.768400Z              unknown   \n",
              "1  female  29/09/1996  2021-02-16T16:01:10.861844Z  Bachelors (bacc +4)   \n",
              "\n",
              "  formal_sector_job have_computer_home internet_at_home hear_AA_1  \\\n",
              "0           unknown            unknown          unknown   unknown   \n",
              "1           unknown                Yes              Yes    Friend   \n",
              "\n",
              "                   after_AA                              quest_id  ...  Git  \\\n",
              "0                   unknown  905dc006-ce95-11eb-b2f9-7c67a234f601  ...  NaN   \n",
              "1  Finding a job/internship  905ddcf2-ce95-11eb-9a92-7c67a234f601  ...  0.0   \n",
              "\n",
              "  Java JavaScript  PHP  PowerBI or Tableau  Python    R  SQL  VBA  other  \n",
              "0  NaN        NaN  NaN                 NaN     NaN  NaN  NaN  NaN    NaN  \n",
              "1  0.0        0.0  0.0                 0.0     0.0  1.0  0.0  0.0    0.0  \n",
              "\n",
              "[2 rows x 26 columns]"
            ]
          },
          "metadata": {},
          "output_type": "display_data"
        }
      ],
      "source": [
        "df3=merging(x=df2, y= techno)"
      ]
    },
    {
      "cell_type": "code",
      "execution_count": 270,
      "metadata": {},
      "outputs": [
        {
          "data": {
            "text/plain": [
              "(250, 26)"
            ]
          },
          "execution_count": 270,
          "metadata": {},
          "output_type": "execute_result"
        }
      ],
      "source": [
        "df3.shape"
      ]
    },
    {
      "cell_type": "code",
      "execution_count": 271,
      "metadata": {},
      "outputs": [
        {
          "data": {
            "text/html": [
              "<div>\n",
              "<style scoped>\n",
              "    .dataframe tbody tr th:only-of-type {\n",
              "        vertical-align: middle;\n",
              "    }\n",
              "\n",
              "    .dataframe tbody tr th {\n",
              "        vertical-align: top;\n",
              "    }\n",
              "\n",
              "    .dataframe thead th {\n",
              "        text-align: right;\n",
              "    }\n",
              "</style>\n",
              "<table border=\"1\" class=\"dataframe\">\n",
              "  <thead>\n",
              "    <tr style=\"text-align: right;\">\n",
              "      <th></th>\n",
              "      <th>gender</th>\n",
              "      <th>dob</th>\n",
              "      <th>application_date</th>\n",
              "      <th>education_level</th>\n",
              "      <th>formal_sector_job</th>\n",
              "      <th>have_computer_home</th>\n",
              "      <th>internet_at_home</th>\n",
              "      <th>hear_AA_1</th>\n",
              "      <th>after_AA</th>\n",
              "      <th>quest_id</th>\n",
              "      <th>...</th>\n",
              "      <th>other_x</th>\n",
              "      <th>Accounting</th>\n",
              "      <th>Computer Science</th>\n",
              "      <th>Economics</th>\n",
              "      <th>Electrical Engineering</th>\n",
              "      <th>Law</th>\n",
              "      <th>Management</th>\n",
              "      <th>Medicine</th>\n",
              "      <th>Statistics</th>\n",
              "      <th>other_y</th>\n",
              "    </tr>\n",
              "  </thead>\n",
              "  <tbody>\n",
              "    <tr>\n",
              "      <th>0</th>\n",
              "      <td>male</td>\n",
              "      <td>25/08/1998</td>\n",
              "      <td>2021-02-14T23:03:52.768400Z</td>\n",
              "      <td>unknown</td>\n",
              "      <td>unknown</td>\n",
              "      <td>unknown</td>\n",
              "      <td>unknown</td>\n",
              "      <td>unknown</td>\n",
              "      <td>unknown</td>\n",
              "      <td>905dc006-ce95-11eb-b2f9-7c67a234f601</td>\n",
              "      <td>...</td>\n",
              "      <td>NaN</td>\n",
              "      <td>NaN</td>\n",
              "      <td>NaN</td>\n",
              "      <td>NaN</td>\n",
              "      <td>NaN</td>\n",
              "      <td>NaN</td>\n",
              "      <td>NaN</td>\n",
              "      <td>NaN</td>\n",
              "      <td>NaN</td>\n",
              "      <td>NaN</td>\n",
              "    </tr>\n",
              "    <tr>\n",
              "      <th>1</th>\n",
              "      <td>female</td>\n",
              "      <td>29/09/1996</td>\n",
              "      <td>2021-02-16T16:01:10.861844Z</td>\n",
              "      <td>Bachelors (bacc +4)</td>\n",
              "      <td>unknown</td>\n",
              "      <td>Yes</td>\n",
              "      <td>Yes</td>\n",
              "      <td>Friend</td>\n",
              "      <td>Finding a job/internship</td>\n",
              "      <td>905ddcf2-ce95-11eb-9a92-7c67a234f601</td>\n",
              "      <td>...</td>\n",
              "      <td>0.0</td>\n",
              "      <td>0.0</td>\n",
              "      <td>0.0</td>\n",
              "      <td>0.0</td>\n",
              "      <td>0.0</td>\n",
              "      <td>0.0</td>\n",
              "      <td>0.0</td>\n",
              "      <td>0.0</td>\n",
              "      <td>0.0</td>\n",
              "      <td>1.0</td>\n",
              "    </tr>\n",
              "  </tbody>\n",
              "</table>\n",
              "<p>2 rows × 35 columns</p>\n",
              "</div>"
            ],
            "text/plain": [
              "   gender         dob             application_date      education_level  \\\n",
              "0    male  25/08/1998  2021-02-14T23:03:52.768400Z              unknown   \n",
              "1  female  29/09/1996  2021-02-16T16:01:10.861844Z  Bachelors (bacc +4)   \n",
              "\n",
              "  formal_sector_job have_computer_home internet_at_home hear_AA_1  \\\n",
              "0           unknown            unknown          unknown   unknown   \n",
              "1           unknown                Yes              Yes    Friend   \n",
              "\n",
              "                   after_AA                              quest_id  ...  \\\n",
              "0                   unknown  905dc006-ce95-11eb-b2f9-7c67a234f601  ...   \n",
              "1  Finding a job/internship  905ddcf2-ce95-11eb-9a92-7c67a234f601  ...   \n",
              "\n",
              "  other_x Accounting Computer Science Economics  Electrical Engineering  Law  \\\n",
              "0     NaN        NaN              NaN       NaN                     NaN  NaN   \n",
              "1     0.0        0.0              0.0       0.0                     0.0  0.0   \n",
              "\n",
              "   Management  Medicine  Statistics  other_y  \n",
              "0         NaN       NaN         NaN      NaN  \n",
              "1         0.0       0.0         0.0      1.0  \n",
              "\n",
              "[2 rows x 35 columns]"
            ]
          },
          "metadata": {},
          "output_type": "display_data"
        }
      ],
      "source": [
        "df5= merging(x=df3 , y=study )"
      ]
    },
    {
      "cell_type": "code",
      "execution_count": 272,
      "metadata": {
        "id": "Guj8aFmMpCmi"
      },
      "outputs": [
        {
          "data": {
            "text/plain": [
              "(250, 35)"
            ]
          },
          "execution_count": 272,
          "metadata": {},
          "output_type": "execute_result"
        }
      ],
      "source": [
        "df5.shape"
      ]
    },
    {
      "cell_type": "code",
      "execution_count": 273,
      "metadata": {},
      "outputs": [
        {
          "data": {
            "text/plain": [
              "(78, 3)"
            ]
          },
          "execution_count": 273,
          "metadata": {},
          "output_type": "execute_result"
        }
      ],
      "source": [
        "df4.shape"
      ]
    },
    {
      "cell_type": "code",
      "execution_count": 274,
      "metadata": {
        "id": "hUFKkyOmoeGK"
      },
      "outputs": [
        {
          "data": {
            "text/html": [
              "<div>\n",
              "<style scoped>\n",
              "    .dataframe tbody tr th:only-of-type {\n",
              "        vertical-align: middle;\n",
              "    }\n",
              "\n",
              "    .dataframe tbody tr th {\n",
              "        vertical-align: top;\n",
              "    }\n",
              "\n",
              "    .dataframe thead th {\n",
              "        text-align: right;\n",
              "    }\n",
              "</style>\n",
              "<table border=\"1\" class=\"dataframe\">\n",
              "  <thead>\n",
              "    <tr style=\"text-align: right;\">\n",
              "      <th></th>\n",
              "      <th>gender</th>\n",
              "      <th>dob</th>\n",
              "      <th>application_date</th>\n",
              "      <th>education_level</th>\n",
              "      <th>formal_sector_job</th>\n",
              "      <th>have_computer_home</th>\n",
              "      <th>internet_at_home</th>\n",
              "      <th>hear_AA_1</th>\n",
              "      <th>after_AA</th>\n",
              "      <th>quest_id</th>\n",
              "      <th>...</th>\n",
              "      <th>Computer Science</th>\n",
              "      <th>Economics</th>\n",
              "      <th>Electrical Engineering</th>\n",
              "      <th>Law</th>\n",
              "      <th>Management</th>\n",
              "      <th>Medicine</th>\n",
              "      <th>Statistics</th>\n",
              "      <th>other_y</th>\n",
              "      <th>Payment_Date</th>\n",
              "      <th>payed</th>\n",
              "    </tr>\n",
              "  </thead>\n",
              "  <tbody>\n",
              "    <tr>\n",
              "      <th>0</th>\n",
              "      <td>male</td>\n",
              "      <td>25/08/1998</td>\n",
              "      <td>2021-02-14T23:03:52.768400Z</td>\n",
              "      <td>unknown</td>\n",
              "      <td>unknown</td>\n",
              "      <td>unknown</td>\n",
              "      <td>unknown</td>\n",
              "      <td>unknown</td>\n",
              "      <td>unknown</td>\n",
              "      <td>905dc006-ce95-11eb-b2f9-7c67a234f601</td>\n",
              "      <td>...</td>\n",
              "      <td>NaN</td>\n",
              "      <td>NaN</td>\n",
              "      <td>NaN</td>\n",
              "      <td>NaN</td>\n",
              "      <td>NaN</td>\n",
              "      <td>NaN</td>\n",
              "      <td>NaN</td>\n",
              "      <td>NaN</td>\n",
              "      <td>NaN</td>\n",
              "      <td>NaN</td>\n",
              "    </tr>\n",
              "    <tr>\n",
              "      <th>1</th>\n",
              "      <td>female</td>\n",
              "      <td>29/09/1996</td>\n",
              "      <td>2021-02-16T16:01:10.861844Z</td>\n",
              "      <td>Bachelors (bacc +4)</td>\n",
              "      <td>unknown</td>\n",
              "      <td>Yes</td>\n",
              "      <td>Yes</td>\n",
              "      <td>Friend</td>\n",
              "      <td>Finding a job/internship</td>\n",
              "      <td>905ddcf2-ce95-11eb-9a92-7c67a234f601</td>\n",
              "      <td>...</td>\n",
              "      <td>0.0</td>\n",
              "      <td>0.0</td>\n",
              "      <td>0.0</td>\n",
              "      <td>0.0</td>\n",
              "      <td>0.0</td>\n",
              "      <td>0.0</td>\n",
              "      <td>0.0</td>\n",
              "      <td>1.0</td>\n",
              "      <td>NaN</td>\n",
              "      <td>NaN</td>\n",
              "    </tr>\n",
              "  </tbody>\n",
              "</table>\n",
              "<p>2 rows × 37 columns</p>\n",
              "</div>"
            ],
            "text/plain": [
              "   gender         dob             application_date      education_level  \\\n",
              "0    male  25/08/1998  2021-02-14T23:03:52.768400Z              unknown   \n",
              "1  female  29/09/1996  2021-02-16T16:01:10.861844Z  Bachelors (bacc +4)   \n",
              "\n",
              "  formal_sector_job have_computer_home internet_at_home hear_AA_1  \\\n",
              "0           unknown            unknown          unknown   unknown   \n",
              "1           unknown                Yes              Yes    Friend   \n",
              "\n",
              "                   after_AA                              quest_id  ...  \\\n",
              "0                   unknown  905dc006-ce95-11eb-b2f9-7c67a234f601  ...   \n",
              "1  Finding a job/internship  905ddcf2-ce95-11eb-9a92-7c67a234f601  ...   \n",
              "\n",
              "  Computer Science Economics Electrical Engineering  Law  Management  \\\n",
              "0              NaN       NaN                    NaN  NaN         NaN   \n",
              "1              0.0       0.0                    0.0  0.0         0.0   \n",
              "\n",
              "   Medicine  Statistics  other_y  Payment_Date  payed  \n",
              "0       NaN         NaN      NaN           NaN    NaN  \n",
              "1       0.0         0.0      1.0           NaN    NaN  \n",
              "\n",
              "[2 rows x 37 columns]"
            ]
          },
          "metadata": {},
          "output_type": "display_data"
        }
      ],
      "source": [
        "df_final=merging(x=df5,y=df4)"
      ]
    },
    {
      "cell_type": "code",
      "execution_count": 275,
      "metadata": {},
      "outputs": [
        {
          "data": {
            "text/plain": [
              "0      NaN\n",
              "1      NaN\n",
              "2      NaN\n",
              "3      NaN\n",
              "4      NaN\n",
              "      ... \n",
              "245    NaN\n",
              "246    NaN\n",
              "247    yes\n",
              "248    NaN\n",
              "249    NaN\n",
              "Name: payed, Length: 250, dtype: object"
            ]
          },
          "execution_count": 275,
          "metadata": {},
          "output_type": "execute_result"
        }
      ],
      "source": [
        "df_final[\"payed\"]"
      ]
    },
    {
      "cell_type": "code",
      "execution_count": 276,
      "metadata": {},
      "outputs": [],
      "source": [
        "df_final[\"payed\"]=df_final[\"payed\"].fillna(\"No\")"
      ]
    },
    {
      "cell_type": "code",
      "execution_count": 277,
      "metadata": {},
      "outputs": [
        {
          "data": {
            "text/plain": [
              "0       No\n",
              "1       No\n",
              "2       No\n",
              "3       No\n",
              "4       No\n",
              "      ... \n",
              "245     No\n",
              "246     No\n",
              "247    yes\n",
              "248     No\n",
              "249     No\n",
              "Name: payed, Length: 250, dtype: object"
            ]
          },
          "execution_count": 277,
          "metadata": {},
          "output_type": "execute_result"
        }
      ],
      "source": [
        "df_final[\"payed\"]"
      ]
    },
    {
      "cell_type": "code",
      "execution_count": 278,
      "metadata": {},
      "outputs": [],
      "source": [
        "df_final=df_final.rename(columns={\"hear_AA_1\":\"Communication_channels\",\"after_AA\":\"Bootcamp_Insterest\",\"dob\":\"Birth_Date\"})"
      ]
    },
    {
      "cell_type": "code",
      "execution_count": 279,
      "metadata": {},
      "outputs": [],
      "source": [
        "# times=pd.Timestamp(year=2021, month=3, day=20)"
      ]
    },
    {
      "cell_type": "code",
      "execution_count": 280,
      "metadata": {},
      "outputs": [],
      "source": [
        "# df_final[\"Birth_Date\"]= df_final[\"Birth_Date\"].fillna(times)"
      ]
    },
    {
      "cell_type": "code",
      "execution_count": 281,
      "metadata": {},
      "outputs": [],
      "source": [
        "df_final[\"Birth_Date\"].replace({'3 aout 1977': '03/08/1977'}, inplace=True)"
      ]
    },
    {
      "cell_type": "code",
      "execution_count": 282,
      "metadata": {},
      "outputs": [
        {
          "data": {
            "text/plain": [
              "False    244\n",
              "True       6\n",
              "Name: Birth_Date, dtype: int64"
            ]
          },
          "execution_count": 282,
          "metadata": {},
          "output_type": "execute_result"
        }
      ],
      "source": [
        "df_final[\"Birth_Date\"].isna().value_counts()"
      ]
    },
    {
      "cell_type": "code",
      "execution_count": 283,
      "metadata": {},
      "outputs": [],
      "source": [
        "df_final[\"application_date\"] = df_final[\"application_date\"].apply(lambda x: str(x)[:10])"
      ]
    },
    {
      "cell_type": "code",
      "execution_count": 284,
      "metadata": {},
      "outputs": [],
      "source": [
        "df_final[\"Birth_Date\"] = pd.to_datetime(df_final[\"Birth_Date\"])"
      ]
    },
    {
      "cell_type": "code",
      "execution_count": 285,
      "metadata": {},
      "outputs": [],
      "source": [
        "df_final[\"application_date\"] = pd.to_datetime(df_final[\"application_date\"])"
      ]
    },
    {
      "cell_type": "code",
      "execution_count": 286,
      "metadata": {},
      "outputs": [],
      "source": [
        "df_final[\"Age\"]=df_final[\"application_date\"]-df_final[\"Birth_Date\"]"
      ]
    },
    {
      "cell_type": "code",
      "execution_count": 287,
      "metadata": {},
      "outputs": [
        {
          "data": {
            "text/plain": [
              "8906 days     2\n",
              "9509 days     2\n",
              "8477 days     2\n",
              "8089 days     2\n",
              "11760 days    2\n",
              "             ..\n",
              "14744 days    1\n",
              "11105 days    1\n",
              "8344 days     1\n",
              "9051 days     1\n",
              "9298 days     1\n",
              "Name: Age, Length: 239, dtype: int64"
            ]
          },
          "execution_count": 287,
          "metadata": {},
          "output_type": "execute_result"
        }
      ],
      "source": [
        "df_final[\"Age\"].value_counts()"
      ]
    },
    {
      "cell_type": "code",
      "execution_count": 288,
      "metadata": {},
      "outputs": [],
      "source": [
        "df_final[\"Age\"] = df_final[\"Age\"]// np.timedelta64(1,\"Y\")"
      ]
    },
    {
      "cell_type": "code",
      "execution_count": 289,
      "metadata": {},
      "outputs": [
        {
          "data": {
            "text/plain": [
              "26.475409836065573"
            ]
          },
          "execution_count": 289,
          "metadata": {},
          "output_type": "execute_result"
        }
      ],
      "source": [
        "df_final[\"Age\"].mean()"
      ]
    },
    {
      "cell_type": "code",
      "execution_count": null,
      "metadata": {},
      "outputs": [],
      "source": []
    },
    {
      "cell_type": "code",
      "execution_count": 290,
      "metadata": {},
      "outputs": [],
      "source": [
        "# df_final[\"Age\"]=df_final[\"Age\"]//365"
      ]
    },
    {
      "cell_type": "code",
      "execution_count": 291,
      "metadata": {},
      "outputs": [],
      "source": [
        "# df_final[\"Age\"] = df_final[\"Age\"].apply(lambda x: str(x)[:2])"
      ]
    },
    {
      "cell_type": "code",
      "execution_count": 292,
      "metadata": {},
      "outputs": [
        {
          "data": {
            "text/plain": [
              "Index(['gender', 'Birth_Date', 'application_date', 'education_level',\n",
              "       'formal_sector_job', 'have_computer_home', 'internet_at_home',\n",
              "       'Communication_channels', 'Bootcamp_Insterest', 'quest_id',\n",
              "       'enroll_date', 'commune', 'is_enroll', 'Commune_FR', 'Bash', 'Excel',\n",
              "       'Git', 'Java', 'JavaScript', 'PHP', 'PowerBI or Tableau', 'Python', 'R',\n",
              "       'SQL', 'VBA', 'other_x', 'Accounting', 'Computer Science', 'Economics',\n",
              "       'Electrical Engineering', 'Law', 'Management', 'Medicine', 'Statistics',\n",
              "       'other_y', 'Payment_Date', 'payed', 'Age'],\n",
              "      dtype='object')"
            ]
          },
          "execution_count": 292,
          "metadata": {},
          "output_type": "execute_result"
        }
      ],
      "source": [
        "df_final.columns"
      ]
    },
    {
      "cell_type": "code",
      "execution_count": null,
      "metadata": {},
      "outputs": [],
      "source": []
    },
    {
      "cell_type": "code",
      "execution_count": 293,
      "metadata": {},
      "outputs": [
        {
          "data": {
            "text/plain": [
              " 24.0    27\n",
              " 23.0    26\n",
              " 25.0    24\n",
              " 26.0    21\n",
              " 28.0    18\n",
              " 22.0    16\n",
              " 27.0    14\n",
              " 29.0    12\n",
              " 21.0    10\n",
              " 30.0     9\n",
              " 33.0     8\n",
              " 20.0     7\n",
              " 32.0     7\n",
              " 34.0     7\n",
              " 31.0     7\n",
              " 37.0     6\n",
              "-1.0      5\n",
              " 40.0     4\n",
              " 38.0     3\n",
              " 44.0     2\n",
              " 1.0      1\n",
              " 19.0     1\n",
              " 18.0     1\n",
              " 46.0     1\n",
              " 43.0     1\n",
              " 50.0     1\n",
              " 39.0     1\n",
              " 48.0     1\n",
              " 0.0      1\n",
              " 45.0     1\n",
              " 35.0     1\n",
              "Name: Age, dtype: int64"
            ]
          },
          "execution_count": 293,
          "metadata": {},
          "output_type": "execute_result"
        }
      ],
      "source": [
        "df_final.Age.value_counts()"
      ]
    },
    {
      "cell_type": "code",
      "execution_count": 294,
      "metadata": {},
      "outputs": [],
      "source": [
        "df_final.Age=df_final.Age.replace({-1.00000:np.nan,1.00000:np.nan,0.00000:np.nan})"
      ]
    },
    {
      "cell_type": "code",
      "execution_count": 295,
      "metadata": {},
      "outputs": [],
      "source": [
        "df_final.Age= df_final.Age.fillna(df_final.Age.mean())"
      ]
    },
    {
      "cell_type": "code",
      "execution_count": 296,
      "metadata": {},
      "outputs": [],
      "source": [
        "df_final[\"Age\"] = df_final[\"Age\"].apply(lambda x: int(x))"
      ]
    },
    {
      "cell_type": "code",
      "execution_count": 297,
      "metadata": {},
      "outputs": [
        {
          "data": {
            "text/plain": [
              "0      22\n",
              "1      24\n",
              "2      24\n",
              "3      24\n",
              "4      23\n",
              "       ..\n",
              "245    27\n",
              "246    30\n",
              "247    27\n",
              "248    28\n",
              "249    27\n",
              "Name: Age, Length: 250, dtype: int64"
            ]
          },
          "execution_count": 297,
          "metadata": {},
          "output_type": "execute_result"
        }
      ],
      "source": [
        "df_final.Age"
      ]
    },
    {
      "cell_type": "code",
      "execution_count": 298,
      "metadata": {},
      "outputs": [
        {
          "data": {
            "text/plain": [
              "27    27\n",
              "24    27\n",
              "23    26\n",
              "25    24\n",
              "26    21\n",
              "28    18\n",
              "22    16\n",
              "29    12\n",
              "21    10\n",
              "30     9\n",
              "33     8\n",
              "34     7\n",
              "32     7\n",
              "20     7\n",
              "31     7\n",
              "37     6\n",
              "40     4\n",
              "38     3\n",
              "44     2\n",
              "19     1\n",
              "50     1\n",
              "48     1\n",
              "35     1\n",
              "39     1\n",
              "43     1\n",
              "45     1\n",
              "46     1\n",
              "18     1\n",
              "Name: Age, dtype: int64"
            ]
          },
          "execution_count": 298,
          "metadata": {},
          "output_type": "execute_result"
        }
      ],
      "source": [
        "df_final.Age.value_counts()"
      ]
    },
    {
      "cell_type": "markdown",
      "metadata": {
        "id": "ehC_9a1Z2Zc_"
      },
      "source": []
    },
    {
      "cell_type": "markdown",
      "metadata": {
        "id": "zJ9tuHyY0ypH"
      },
      "source": []
    },
    {
      "cell_type": "markdown",
      "metadata": {
        "id": "hlpCdKUSTSEK"
      },
      "source": [
        "###  1. How many observations and variables are there in the dataset\n",
        " "
      ]
    },
    {
      "cell_type": "code",
      "execution_count": 299,
      "metadata": {
        "id": "7lZAWdkITSEM"
      },
      "outputs": [
        {
          "name": "stdout",
          "output_type": "stream",
          "text": [
            "The number of observations are: 250 and the number of variables are 38\n"
          ]
        }
      ],
      "source": [
        "# here your codes\r\n",
        "a=df_final.shape\r\n",
        "print(f\"The number of observations are: {a[0]} and the number of variables are {a[1]}\")"
      ]
    },
    {
      "cell_type": "markdown",
      "metadata": {
        "id": "-FP7KXrNTSEO"
      },
      "source": [
        "### 2.A Calculate the average age of the observations\r\n",
        "   * On the whole dataset\r\n",
        "   * On the whole male dataset\r\n",
        "   * On all the female dataset\r\n",
        "### 2.B Calculate \r\n",
        "   * variance of the whole datatset,male and female\r\n",
        "   * kurtosis of the whole datatset,male and female\r\n",
        "   * skewness of the whole datatset,male and female\r\n",
        "### 2.C Does the age distribution follow a normal distribution \r\n",
        "   "
      ]
    },
    {
      "cell_type": "code",
      "execution_count": 300,
      "metadata": {},
      "outputs": [
        {
          "data": {
            "text/plain": [
              "27.26"
            ]
          },
          "execution_count": 300,
          "metadata": {},
          "output_type": "execute_result"
        }
      ],
      "source": [
        "#2A Average age of the observations\r\n",
        "# on the whole dataset\r\n",
        "df_final[\"Age\"].mean()"
      ]
    },
    {
      "cell_type": "code",
      "execution_count": 301,
      "metadata": {},
      "outputs": [
        {
          "data": {
            "text/plain": [
              "27.48768472906404"
            ]
          },
          "execution_count": 301,
          "metadata": {},
          "output_type": "execute_result"
        }
      ],
      "source": [
        "# on the whole male dataset\r\n",
        "male_avg= df_final[df_final[\"gender\"] == \"male\"]\r\n",
        "male_avg.Age.mean()"
      ]
    },
    {
      "cell_type": "code",
      "execution_count": 302,
      "metadata": {},
      "outputs": [
        {
          "data": {
            "text/plain": [
              "26.27659574468085"
            ]
          },
          "execution_count": 302,
          "metadata": {},
          "output_type": "execute_result"
        }
      ],
      "source": [
        "female_avg= df_final[df_final[\"gender\"] == \"female\"]\r\n",
        "female_avg.Age.mean()"
      ]
    },
    {
      "cell_type": "code",
      "execution_count": 303,
      "metadata": {},
      "outputs": [
        {
          "data": {
            "text/plain": [
              "29.75140562248999"
            ]
          },
          "execution_count": 303,
          "metadata": {},
          "output_type": "execute_result"
        }
      ],
      "source": [
        "# 2.B variance on the whole dataset\r\n",
        "df_final[\"Age\"].var()"
      ]
    },
    {
      "cell_type": "code",
      "execution_count": 304,
      "metadata": {},
      "outputs": [
        {
          "data": {
            "text/plain": [
              "27.465309898242367"
            ]
          },
          "execution_count": 304,
          "metadata": {},
          "output_type": "execute_result"
        }
      ],
      "source": [
        "# Variance on the female dataset age\r\n",
        "female_avg.Age.var()"
      ]
    },
    {
      "cell_type": "code",
      "execution_count": 305,
      "metadata": {},
      "outputs": [
        {
          "data": {
            "text/plain": [
              "30.14217431595375"
            ]
          },
          "execution_count": 305,
          "metadata": {},
          "output_type": "execute_result"
        }
      ],
      "source": [
        "#variance on the male dataset age\r\n",
        "male_avg.Age.var()"
      ]
    },
    {
      "cell_type": "code",
      "execution_count": 306,
      "metadata": {},
      "outputs": [
        {
          "data": {
            "text/plain": [
              "2.470953742713658"
            ]
          },
          "execution_count": 306,
          "metadata": {},
          "output_type": "execute_result"
        }
      ],
      "source": [
        "# kurtosis on the male age\r\n",
        "a=(male_avg.Age)\r\n",
        "a.kurtosis()"
      ]
    },
    {
      "cell_type": "code",
      "execution_count": 307,
      "metadata": {},
      "outputs": [
        {
          "data": {
            "text/plain": [
              "4.277036465452934"
            ]
          },
          "execution_count": 307,
          "metadata": {},
          "output_type": "execute_result"
        }
      ],
      "source": [
        "# kurtosis on the female\r\n",
        "female_avg.Age.kurtosis()"
      ]
    },
    {
      "cell_type": "code",
      "execution_count": 308,
      "metadata": {},
      "outputs": [
        {
          "data": {
            "text/plain": [
              "2.611171640238888"
            ]
          },
          "execution_count": 308,
          "metadata": {},
          "output_type": "execute_result"
        }
      ],
      "source": [
        "# Kurtosis on the whole dataset\r\n",
        "df_final[\"Age\"].kurtosis()"
      ]
    },
    {
      "cell_type": "code",
      "execution_count": 309,
      "metadata": {},
      "outputs": [
        {
          "name": "stdout",
          "output_type": "stream",
          "text": [
            "Requirement already satisfied: scipy in /home/gothie/anaconda3/lib/python3.8/site-packages (1.5.2)\n",
            "Requirement already satisfied: numpy>=1.14.5 in /home/gothie/anaconda3/lib/python3.8/site-packages (from scipy) (1.19.2)\n"
          ]
        }
      ],
      "source": [
        "!pip install scipy \r\n",
        "import scipy as stats\r\n",
        "from scipy.stats import skew"
      ]
    },
    {
      "cell_type": "code",
      "execution_count": 310,
      "metadata": {},
      "outputs": [
        {
          "data": {
            "text/plain": [
              "1.45513064419738"
            ]
          },
          "execution_count": 310,
          "metadata": {},
          "output_type": "execute_result"
        }
      ],
      "source": [
        "\r\n",
        "#skewness on the whole age dataset\r\n",
        "skew(df_final.Age)"
      ]
    },
    {
      "cell_type": "code",
      "execution_count": 311,
      "metadata": {},
      "outputs": [
        {
          "data": {
            "text/plain": [
              "1.3899607655196395"
            ]
          },
          "execution_count": 311,
          "metadata": {},
          "output_type": "execute_result"
        }
      ],
      "source": [
        "# skweness on the male dataset\r\n",
        "skew(male_avg.Age)"
      ]
    },
    {
      "cell_type": "code",
      "execution_count": 312,
      "metadata": {},
      "outputs": [
        {
          "data": {
            "text/plain": [
              "1.8230547738801515"
            ]
          },
          "execution_count": 312,
          "metadata": {},
          "output_type": "execute_result"
        }
      ],
      "source": [
        "# skewness on the female dataset\r\n",
        "skew(female_avg.Age)"
      ]
    },
    {
      "cell_type": "code",
      "execution_count": 313,
      "metadata": {},
      "outputs": [
        {
          "data": {
            "image/png": "[encoded data removed]",
            "text/plain": [
              "<Figure size 432x288 with 1 Axes>"
            ]
          },
          "metadata": {
            "needs_background": "light"
          },
          "output_type": "display_data"
        }
      ],
      "source": [
        "figure=df_final.groupby('gender').Age.plot(kind='kde')\r\n"
      ]
    },
    {
      "cell_type": "code",
      "execution_count": 314,
      "metadata": {},
      "outputs": [],
      "source": [
        "\r\n",
        "# #generate_barchart(data=gender_result,title=\"Total et Percent By Sex\",abs_value=\"Total\",rel_value=\"Percent\")\r\n",
        "# figure_1 = df_final.Age.plot(kind=\"bar\")\r\n",
        "# # Get a Matplotlib figure from the axes object for formatting purposes\r\n",
        "# fig = figure_1.get_figure()\r\n",
        "# # Change the plot dimensions (width, height)\r\n",
        "# fig.set_size_inches(6,6)\r\n",
        "# # Change the axes labels\r\n",
        "# # figure_1.set_xlabel(\"hear_AA_1\",fontsize=12)\r\n",
        "# # figure_1.set_ylabel(\"gender\",fontsize=12)\r\n",
        "# # figure_1.set_title(\"Distribution of women according to the channel used\",fontsize=12)\r\n",
        "# # to put a font size to the graph\r\n",
        "# plt.rcParams.update({'font.size': 10})\r\n",
        "# #add legend\r\n",
        "# figure_1.legend()\r\n",
        "# plt.tight_layout()\r\n",
        "# #plt.show()\r\n",
        "# figure_1"
      ]
    },
    {
      "cell_type": "code",
      "execution_count": 315,
      "metadata": {},
      "outputs": [
        {
          "data": {
            "image/png": "[encoded data removed]",
            "text/plain": [
              "<Figure size 720x432 with 1 Axes>"
            ]
          },
          "metadata": {
            "needs_background": "light"
          },
          "output_type": "display_data"
        }
      ],
      "source": [
        "bins = np.linspace(df_final.Age.min(),df_final.Age.max(),15,endpoint=True)\r\n",
        "plt.figure(figsize=(10,6))\r\n",
        "sns.histplot(data =df_final,x=df_final[\"Age\"],kde=True,bins=bins,hue=\"gender\")\r\n",
        "plt.title(\"Density\")\r\n",
        "plt.show()"
      ]
    },
    {
      "cell_type": "code",
      "execution_count": null,
      "metadata": {},
      "outputs": [],
      "source": []
    },
    {
      "cell_type": "code",
      "execution_count": 316,
      "metadata": {},
      "outputs": [],
      "source": [
        "# Does the age distribution follow a normal distribution\r\n",
        "import scipy.stats as stats"
      ]
    },
    {
      "cell_type": "code",
      "execution_count": 317,
      "metadata": {},
      "outputs": [
        {
          "data": {
            "text/plain": [
              "Jarque_beraResult(statistic=155.18277694599647, pvalue=0.0)"
            ]
          },
          "execution_count": 317,
          "metadata": {},
          "output_type": "execute_result"
        }
      ],
      "source": [
        "# normal test on the whole dataset\r\n",
        "stats.jarque_bera(df_final.Age)"
      ]
    },
    {
      "cell_type": "code",
      "execution_count": 318,
      "metadata": {},
      "outputs": [
        {
          "data": {
            "text/plain": [
              "Jarque_beraResult(statistic=52.99461267521568, pvalue=3.1071811790184256e-12)"
            ]
          },
          "execution_count": 318,
          "metadata": {},
          "output_type": "execute_result"
        }
      ],
      "source": [
        "# normal test on the female dataset\r\n",
        "female_avg= df_final[df_final[\"gender\"] == \"female\"]\r\n",
        "stats.jarque_bera(female_avg.Age)\r\n",
        "\r\n"
      ]
    },
    {
      "cell_type": "code",
      "execution_count": 319,
      "metadata": {},
      "outputs": [
        {
          "data": {
            "text/plain": [
              "Jarque_beraResult(statistic=113.32134681740678, pvalue=0.0)"
            ]
          },
          "execution_count": 319,
          "metadata": {},
          "output_type": "execute_result"
        }
      ],
      "source": [
        "# normal test on the male dataset\r\n",
        "stats.jarque_bera(male_avg.Age)"
      ]
    },
    {
      "cell_type": "markdown",
      "metadata": {
        "id": "LKBJSmbATSES"
      },
      "source": [
        "### 3.Display the age frequency disbrution\n",
        "   * On the whole dataset\n",
        "   * On the whole male dataset\n",
        "   * On all the female dataset"
      ]
    },
    {
      "cell_type": "code",
      "execution_count": 320,
      "metadata": {},
      "outputs": [
        {
          "data": {
            "text/html": [
              "<div>\n",
              "<style scoped>\n",
              "    .dataframe tbody tr th:only-of-type {\n",
              "        vertical-align: middle;\n",
              "    }\n",
              "\n",
              "    .dataframe tbody tr th {\n",
              "        vertical-align: top;\n",
              "    }\n",
              "\n",
              "    .dataframe thead th {\n",
              "        text-align: right;\n",
              "    }\n",
              "</style>\n",
              "<table border=\"1\" class=\"dataframe\">\n",
              "  <thead>\n",
              "    <tr style=\"text-align: right;\">\n",
              "      <th></th>\n",
              "      <th>Age</th>\n",
              "    </tr>\n",
              "  </thead>\n",
              "  <tbody>\n",
              "    <tr>\n",
              "      <th>27</th>\n",
              "      <td>0.108</td>\n",
              "    </tr>\n",
              "    <tr>\n",
              "      <th>24</th>\n",
              "      <td>0.108</td>\n",
              "    </tr>\n",
              "    <tr>\n",
              "      <th>23</th>\n",
              "      <td>0.104</td>\n",
              "    </tr>\n",
              "    <tr>\n",
              "      <th>25</th>\n",
              "      <td>0.096</td>\n",
              "    </tr>\n",
              "    <tr>\n",
              "      <th>26</th>\n",
              "      <td>0.084</td>\n",
              "    </tr>\n",
              "    <tr>\n",
              "      <th>28</th>\n",
              "      <td>0.072</td>\n",
              "    </tr>\n",
              "    <tr>\n",
              "      <th>22</th>\n",
              "      <td>0.064</td>\n",
              "    </tr>\n",
              "    <tr>\n",
              "      <th>29</th>\n",
              "      <td>0.048</td>\n",
              "    </tr>\n",
              "    <tr>\n",
              "      <th>21</th>\n",
              "      <td>0.040</td>\n",
              "    </tr>\n",
              "    <tr>\n",
              "      <th>30</th>\n",
              "      <td>0.036</td>\n",
              "    </tr>\n",
              "    <tr>\n",
              "      <th>33</th>\n",
              "      <td>0.032</td>\n",
              "    </tr>\n",
              "    <tr>\n",
              "      <th>34</th>\n",
              "      <td>0.028</td>\n",
              "    </tr>\n",
              "    <tr>\n",
              "      <th>32</th>\n",
              "      <td>0.028</td>\n",
              "    </tr>\n",
              "    <tr>\n",
              "      <th>20</th>\n",
              "      <td>0.028</td>\n",
              "    </tr>\n",
              "    <tr>\n",
              "      <th>31</th>\n",
              "      <td>0.028</td>\n",
              "    </tr>\n",
              "    <tr>\n",
              "      <th>37</th>\n",
              "      <td>0.024</td>\n",
              "    </tr>\n",
              "    <tr>\n",
              "      <th>40</th>\n",
              "      <td>0.016</td>\n",
              "    </tr>\n",
              "    <tr>\n",
              "      <th>38</th>\n",
              "      <td>0.012</td>\n",
              "    </tr>\n",
              "    <tr>\n",
              "      <th>44</th>\n",
              "      <td>0.008</td>\n",
              "    </tr>\n",
              "    <tr>\n",
              "      <th>19</th>\n",
              "      <td>0.004</td>\n",
              "    </tr>\n",
              "    <tr>\n",
              "      <th>50</th>\n",
              "      <td>0.004</td>\n",
              "    </tr>\n",
              "    <tr>\n",
              "      <th>48</th>\n",
              "      <td>0.004</td>\n",
              "    </tr>\n",
              "    <tr>\n",
              "      <th>35</th>\n",
              "      <td>0.004</td>\n",
              "    </tr>\n",
              "    <tr>\n",
              "      <th>39</th>\n",
              "      <td>0.004</td>\n",
              "    </tr>\n",
              "    <tr>\n",
              "      <th>43</th>\n",
              "      <td>0.004</td>\n",
              "    </tr>\n",
              "    <tr>\n",
              "      <th>45</th>\n",
              "      <td>0.004</td>\n",
              "    </tr>\n",
              "    <tr>\n",
              "      <th>46</th>\n",
              "      <td>0.004</td>\n",
              "    </tr>\n",
              "    <tr>\n",
              "      <th>18</th>\n",
              "      <td>0.004</td>\n",
              "    </tr>\n",
              "  </tbody>\n",
              "</table>\n",
              "</div>"
            ],
            "text/plain": [
              "      Age\n",
              "27  0.108\n",
              "24  0.108\n",
              "23  0.104\n",
              "25  0.096\n",
              "26  0.084\n",
              "28  0.072\n",
              "22  0.064\n",
              "29  0.048\n",
              "21  0.040\n",
              "30  0.036\n",
              "33  0.032\n",
              "34  0.028\n",
              "32  0.028\n",
              "20  0.028\n",
              "31  0.028\n",
              "37  0.024\n",
              "40  0.016\n",
              "38  0.012\n",
              "44  0.008\n",
              "19  0.004\n",
              "50  0.004\n",
              "48  0.004\n",
              "35  0.004\n",
              "39  0.004\n",
              "43  0.004\n",
              "45  0.004\n",
              "46  0.004\n",
              "18  0.004"
            ]
          },
          "metadata": {},
          "output_type": "display_data"
        }
      ],
      "source": [
        "# Age frequency distribution\r\n",
        "# on the whole dataset\r\n",
        "display(df_final.Age.value_counts(normalize=True).to_frame())"
      ]
    },
    {
      "cell_type": "code",
      "execution_count": 321,
      "metadata": {},
      "outputs": [],
      "source": [
        "# display((df_final[\"gender\"]==\"female\").Age.value_counts(normalize=True).to_frame())"
      ]
    },
    {
      "cell_type": "code",
      "execution_count": 322,
      "metadata": {},
      "outputs": [],
      "source": [
        " def pivo(data=\"y\"):\r\n",
        "  gender_pivot=pd.pivot_table(df_final, values='quest_id', index=['Age'], columns=data,aggfunc='count')\r\n",
        "  return gender_pivot"
      ]
    },
    {
      "cell_type": "code",
      "execution_count": 323,
      "metadata": {},
      "outputs": [
        {
          "data": {
            "text/html": [
              "<div>\n",
              "<style scoped>\n",
              "    .dataframe tbody tr th:only-of-type {\n",
              "        vertical-align: middle;\n",
              "    }\n",
              "\n",
              "    .dataframe tbody tr th {\n",
              "        vertical-align: top;\n",
              "    }\n",
              "\n",
              "    .dataframe thead th {\n",
              "        text-align: right;\n",
              "    }\n",
              "</style>\n",
              "<table border=\"1\" class=\"dataframe\">\n",
              "  <thead>\n",
              "    <tr style=\"text-align: right;\">\n",
              "      <th></th>\n",
              "      <th>Age</th>\n",
              "    </tr>\n",
              "  </thead>\n",
              "  <tbody>\n",
              "    <tr>\n",
              "      <th>24</th>\n",
              "      <td>0.118227</td>\n",
              "    </tr>\n",
              "    <tr>\n",
              "      <th>23</th>\n",
              "      <td>0.103448</td>\n",
              "    </tr>\n",
              "    <tr>\n",
              "      <th>25</th>\n",
              "      <td>0.103448</td>\n",
              "    </tr>\n",
              "    <tr>\n",
              "      <th>27</th>\n",
              "      <td>0.103448</td>\n",
              "    </tr>\n",
              "    <tr>\n",
              "      <th>26</th>\n",
              "      <td>0.073892</td>\n",
              "    </tr>\n",
              "    <tr>\n",
              "      <th>28</th>\n",
              "      <td>0.073892</td>\n",
              "    </tr>\n",
              "    <tr>\n",
              "      <th>29</th>\n",
              "      <td>0.049261</td>\n",
              "    </tr>\n",
              "    <tr>\n",
              "      <th>30</th>\n",
              "      <td>0.044335</td>\n",
              "    </tr>\n",
              "    <tr>\n",
              "      <th>22</th>\n",
              "      <td>0.039409</td>\n",
              "    </tr>\n",
              "    <tr>\n",
              "      <th>33</th>\n",
              "      <td>0.039409</td>\n",
              "    </tr>\n",
              "    <tr>\n",
              "      <th>21</th>\n",
              "      <td>0.034483</td>\n",
              "    </tr>\n",
              "    <tr>\n",
              "      <th>34</th>\n",
              "      <td>0.029557</td>\n",
              "    </tr>\n",
              "    <tr>\n",
              "      <th>31</th>\n",
              "      <td>0.029557</td>\n",
              "    </tr>\n",
              "    <tr>\n",
              "      <th>20</th>\n",
              "      <td>0.029557</td>\n",
              "    </tr>\n",
              "    <tr>\n",
              "      <th>37</th>\n",
              "      <td>0.024631</td>\n",
              "    </tr>\n",
              "    <tr>\n",
              "      <th>32</th>\n",
              "      <td>0.024631</td>\n",
              "    </tr>\n",
              "    <tr>\n",
              "      <th>40</th>\n",
              "      <td>0.019704</td>\n",
              "    </tr>\n",
              "    <tr>\n",
              "      <th>38</th>\n",
              "      <td>0.014778</td>\n",
              "    </tr>\n",
              "    <tr>\n",
              "      <th>44</th>\n",
              "      <td>0.009852</td>\n",
              "    </tr>\n",
              "    <tr>\n",
              "      <th>19</th>\n",
              "      <td>0.004926</td>\n",
              "    </tr>\n",
              "    <tr>\n",
              "      <th>50</th>\n",
              "      <td>0.004926</td>\n",
              "    </tr>\n",
              "    <tr>\n",
              "      <th>48</th>\n",
              "      <td>0.004926</td>\n",
              "    </tr>\n",
              "    <tr>\n",
              "      <th>35</th>\n",
              "      <td>0.004926</td>\n",
              "    </tr>\n",
              "    <tr>\n",
              "      <th>39</th>\n",
              "      <td>0.004926</td>\n",
              "    </tr>\n",
              "    <tr>\n",
              "      <th>46</th>\n",
              "      <td>0.004926</td>\n",
              "    </tr>\n",
              "    <tr>\n",
              "      <th>18</th>\n",
              "      <td>0.004926</td>\n",
              "    </tr>\n",
              "  </tbody>\n",
              "</table>\n",
              "</div>"
            ],
            "text/plain": [
              "         Age\n",
              "24  0.118227\n",
              "23  0.103448\n",
              "25  0.103448\n",
              "27  0.103448\n",
              "26  0.073892\n",
              "28  0.073892\n",
              "29  0.049261\n",
              "30  0.044335\n",
              "22  0.039409\n",
              "33  0.039409\n",
              "21  0.034483\n",
              "34  0.029557\n",
              "31  0.029557\n",
              "20  0.029557\n",
              "37  0.024631\n",
              "32  0.024631\n",
              "40  0.019704\n",
              "38  0.014778\n",
              "44  0.009852\n",
              "19  0.004926\n",
              "50  0.004926\n",
              "48  0.004926\n",
              "35  0.004926\n",
              "39  0.004926\n",
              "46  0.004926\n",
              "18  0.004926"
            ]
          },
          "metadata": {},
          "output_type": "display_data"
        }
      ],
      "source": [
        "display((df_final[df_final[\"gender\"]==\"male\"]).Age.value_counts(normalize=True).to_frame())"
      ]
    },
    {
      "cell_type": "code",
      "execution_count": 324,
      "metadata": {},
      "outputs": [
        {
          "data": {
            "text/html": [
              "<div>\n",
              "<style scoped>\n",
              "    .dataframe tbody tr th:only-of-type {\n",
              "        vertical-align: middle;\n",
              "    }\n",
              "\n",
              "    .dataframe tbody tr th {\n",
              "        vertical-align: top;\n",
              "    }\n",
              "\n",
              "    .dataframe thead th {\n",
              "        text-align: right;\n",
              "    }\n",
              "</style>\n",
              "<table border=\"1\" class=\"dataframe\">\n",
              "  <thead>\n",
              "    <tr style=\"text-align: right;\">\n",
              "      <th></th>\n",
              "      <th>Age</th>\n",
              "    </tr>\n",
              "  </thead>\n",
              "  <tbody>\n",
              "    <tr>\n",
              "      <th>22</th>\n",
              "      <td>0.170213</td>\n",
              "    </tr>\n",
              "    <tr>\n",
              "      <th>27</th>\n",
              "      <td>0.127660</td>\n",
              "    </tr>\n",
              "    <tr>\n",
              "      <th>26</th>\n",
              "      <td>0.127660</td>\n",
              "    </tr>\n",
              "    <tr>\n",
              "      <th>23</th>\n",
              "      <td>0.106383</td>\n",
              "    </tr>\n",
              "    <tr>\n",
              "      <th>28</th>\n",
              "      <td>0.063830</td>\n",
              "    </tr>\n",
              "    <tr>\n",
              "      <th>25</th>\n",
              "      <td>0.063830</td>\n",
              "    </tr>\n",
              "    <tr>\n",
              "      <th>24</th>\n",
              "      <td>0.063830</td>\n",
              "    </tr>\n",
              "    <tr>\n",
              "      <th>21</th>\n",
              "      <td>0.063830</td>\n",
              "    </tr>\n",
              "    <tr>\n",
              "      <th>32</th>\n",
              "      <td>0.042553</td>\n",
              "    </tr>\n",
              "    <tr>\n",
              "      <th>29</th>\n",
              "      <td>0.042553</td>\n",
              "    </tr>\n",
              "    <tr>\n",
              "      <th>45</th>\n",
              "      <td>0.021277</td>\n",
              "    </tr>\n",
              "    <tr>\n",
              "      <th>43</th>\n",
              "      <td>0.021277</td>\n",
              "    </tr>\n",
              "    <tr>\n",
              "      <th>37</th>\n",
              "      <td>0.021277</td>\n",
              "    </tr>\n",
              "    <tr>\n",
              "      <th>34</th>\n",
              "      <td>0.021277</td>\n",
              "    </tr>\n",
              "    <tr>\n",
              "      <th>31</th>\n",
              "      <td>0.021277</td>\n",
              "    </tr>\n",
              "    <tr>\n",
              "      <th>20</th>\n",
              "      <td>0.021277</td>\n",
              "    </tr>\n",
              "  </tbody>\n",
              "</table>\n",
              "</div>"
            ],
            "text/plain": [
              "         Age\n",
              "22  0.170213\n",
              "27  0.127660\n",
              "26  0.127660\n",
              "23  0.106383\n",
              "28  0.063830\n",
              "25  0.063830\n",
              "24  0.063830\n",
              "21  0.063830\n",
              "32  0.042553\n",
              "29  0.042553\n",
              "45  0.021277\n",
              "43  0.021277\n",
              "37  0.021277\n",
              "34  0.021277\n",
              "31  0.021277\n",
              "20  0.021277"
            ]
          },
          "metadata": {},
          "output_type": "display_data"
        }
      ],
      "source": [
        "# on the female dataset\r\n",
        "display((df_final[df_final[\"gender\"]==\"female\"]).Age.value_counts(normalize=True).to_frame())"
      ]
    },
    {
      "cell_type": "markdown",
      "metadata": {
        "id": "qtzZrZ6MTSEW"
      },
      "source": [
        "### 4. Can we say that the average age (24 years old) of the observations can be considered as the average age of the population likely to participate in this bootcamp. Justify your answer"
      ]
    },
    {
      "cell_type": "code",
      "execution_count": null,
      "metadata": {},
      "outputs": [],
      "source": []
    },
    {
      "cell_type": "markdown",
      "metadata": {
        "id": "ROlYpGTBTSEa"
      },
      "source": [
        "### 5. Calculate the average age of participants for each communication channel"
      ]
    },
    {
      "cell_type": "code",
      "execution_count": 325,
      "metadata": {},
      "outputs": [
        {
          "data": {
            "text/html": [
              "<div>\n",
              "<style scoped>\n",
              "    .dataframe tbody tr th:only-of-type {\n",
              "        vertical-align: middle;\n",
              "    }\n",
              "\n",
              "    .dataframe tbody tr th {\n",
              "        vertical-align: top;\n",
              "    }\n",
              "\n",
              "    .dataframe thead th {\n",
              "        text-align: right;\n",
              "    }\n",
              "</style>\n",
              "<table border=\"1\" class=\"dataframe\">\n",
              "  <thead>\n",
              "    <tr style=\"text-align: right;\">\n",
              "      <th></th>\n",
              "      <th>Age</th>\n",
              "    </tr>\n",
              "    <tr>\n",
              "      <th>Communication_channels</th>\n",
              "      <th></th>\n",
              "    </tr>\n",
              "  </thead>\n",
              "  <tbody>\n",
              "    <tr>\n",
              "      <th>Ayiti Analytics Website</th>\n",
              "      <td>27.000000</td>\n",
              "    </tr>\n",
              "    <tr>\n",
              "      <th>Bootcamp Alumni</th>\n",
              "      <td>26.285714</td>\n",
              "    </tr>\n",
              "    <tr>\n",
              "      <th>ESIH</th>\n",
              "      <td>25.111111</td>\n",
              "    </tr>\n",
              "    <tr>\n",
              "      <th>Facebook</th>\n",
              "      <td>27.450000</td>\n",
              "    </tr>\n",
              "    <tr>\n",
              "      <th>Friend</th>\n",
              "      <td>27.000000</td>\n",
              "    </tr>\n",
              "    <tr>\n",
              "      <th>Instagram</th>\n",
              "      <td>24.400000</td>\n",
              "    </tr>\n",
              "    <tr>\n",
              "      <th>LinkedIn</th>\n",
              "      <td>30.000000</td>\n",
              "    </tr>\n",
              "    <tr>\n",
              "      <th>WhatsApp</th>\n",
              "      <td>27.772727</td>\n",
              "    </tr>\n",
              "    <tr>\n",
              "      <th>other</th>\n",
              "      <td>28.444444</td>\n",
              "    </tr>\n",
              "    <tr>\n",
              "      <th>unknown</th>\n",
              "      <td>22.000000</td>\n",
              "    </tr>\n",
              "  </tbody>\n",
              "</table>\n",
              "</div>"
            ],
            "text/plain": [
              "                               Age\n",
              "Communication_channels            \n",
              "Ayiti Analytics Website  27.000000\n",
              "Bootcamp Alumni          26.285714\n",
              "ESIH                     25.111111\n",
              "Facebook                 27.450000\n",
              "Friend                   27.000000\n",
              "Instagram                24.400000\n",
              "LinkedIn                 30.000000\n",
              "WhatsApp                 27.772727\n",
              "other                    28.444444\n",
              "unknown                  22.000000"
            ]
          },
          "execution_count": 325,
          "metadata": {},
          "output_type": "execute_result"
        }
      ],
      "source": [
        "age_channel = pd.pivot_table(df_final, index= \"Communication_channels\", values='Age', aggfunc='mean')\r\n",
        "age_channel"
      ]
    },
    {
      "cell_type": "code",
      "execution_count": 326,
      "metadata": {},
      "outputs": [],
      "source": [
        "# # pivo=pd.pivot_table(df_final, values='quest_id', index=['Communication_channels'], columns=\"Age\",aggfunc='mean')\r\n",
        "# # pivo\r\n",
        "# age_channel =df_final.groupby(\"Communication_channels\")[\"Age\"].nunique().to_frame()\r\n",
        "# age_channel\r\n"
      ]
    },
    {
      "cell_type": "code",
      "execution_count": 327,
      "metadata": {},
      "outputs": [],
      "source": [
        "# df_final.pivot_table(index=\"Communication_channels\", columns=\"Age\", values=[\"quest_id\"], aggfunc=np.mean, fill_value=0)"
      ]
    },
    {
      "cell_type": "markdown",
      "metadata": {
        "id": "N5iUnz4kTSEe"
      },
      "source": [
        "### 6. Display an age boxplot for each communication channel"
      ]
    },
    {
      "cell_type": "code",
      "execution_count": 328,
      "metadata": {},
      "outputs": [
        {
          "data": {
            "image/png": "[encoded data removed]",
            "text/plain": [
              "<Figure size 1296x720 with 1 Axes>"
            ]
          },
          "metadata": {
            "needs_background": "light"
          },
          "output_type": "display_data"
        }
      ],
      "source": [
        "fig = df_final.boxplot(column=['Age'], by=['Communication_channels'], figsize=(18,10), fontsize=10)\r\n"
      ]
    },
    {
      "cell_type": "code",
      "execution_count": 329,
      "metadata": {},
      "outputs": [
        {
          "data": {
            "text/plain": [
              "<AxesSubplot:xlabel='Communication_channels', ylabel='Age'>"
            ]
          },
          "execution_count": 329,
          "metadata": {},
          "output_type": "execute_result"
        },
        {
          "data": {
            "image/png": "[encoded data removed]",
            "text/plain": [
              "<Figure size 720x432 with 1 Axes>"
            ]
          },
          "metadata": {
            "needs_background": "light"
          },
          "output_type": "display_data"
        }
      ],
      "source": [
        "plt.figure(figsize=(10,6))\r\n",
        "sns.boxplot(data=df_final,x=\"Communication_channels\",y=\"Age\")"
      ]
    },
    {
      "cell_type": "markdown",
      "metadata": {
        "id": "CqffjuvuTSEh"
      },
      "source": [
        "### 7 .Is there a significant age difference between these groups"
      ]
    },
    {
      "cell_type": "code",
      "execution_count": 330,
      "metadata": {},
      "outputs": [],
      "source": [
        "age_channel =df_final.groupby(\"Communication_channels\")[\"Age\"].count().to_frame()"
      ]
    },
    {
      "cell_type": "code",
      "execution_count": 331,
      "metadata": {},
      "outputs": [
        {
          "data": {
            "text/html": [
              "<div>\n",
              "<style scoped>\n",
              "    .dataframe tbody tr th:only-of-type {\n",
              "        vertical-align: middle;\n",
              "    }\n",
              "\n",
              "    .dataframe tbody tr th {\n",
              "        vertical-align: top;\n",
              "    }\n",
              "\n",
              "    .dataframe thead th {\n",
              "        text-align: right;\n",
              "    }\n",
              "</style>\n",
              "<table border=\"1\" class=\"dataframe\">\n",
              "  <thead>\n",
              "    <tr style=\"text-align: right;\">\n",
              "      <th></th>\n",
              "      <th>Communication_channels</th>\n",
              "      <th>Age</th>\n",
              "    </tr>\n",
              "  </thead>\n",
              "  <tbody>\n",
              "    <tr>\n",
              "      <th>0</th>\n",
              "      <td>Ayiti Analytics Website</td>\n",
              "      <td>15</td>\n",
              "    </tr>\n",
              "    <tr>\n",
              "      <th>1</th>\n",
              "      <td>Bootcamp Alumni</td>\n",
              "      <td>14</td>\n",
              "    </tr>\n",
              "    <tr>\n",
              "      <th>2</th>\n",
              "      <td>ESIH</td>\n",
              "      <td>18</td>\n",
              "    </tr>\n",
              "    <tr>\n",
              "      <th>3</th>\n",
              "      <td>Facebook</td>\n",
              "      <td>40</td>\n",
              "    </tr>\n",
              "    <tr>\n",
              "      <th>4</th>\n",
              "      <td>Friend</td>\n",
              "      <td>67</td>\n",
              "    </tr>\n",
              "    <tr>\n",
              "      <th>5</th>\n",
              "      <td>Instagram</td>\n",
              "      <td>5</td>\n",
              "    </tr>\n",
              "    <tr>\n",
              "      <th>6</th>\n",
              "      <td>LinkedIn</td>\n",
              "      <td>15</td>\n",
              "    </tr>\n",
              "    <tr>\n",
              "      <th>7</th>\n",
              "      <td>WhatsApp</td>\n",
              "      <td>66</td>\n",
              "    </tr>\n",
              "    <tr>\n",
              "      <th>8</th>\n",
              "      <td>other</td>\n",
              "      <td>9</td>\n",
              "    </tr>\n",
              "    <tr>\n",
              "      <th>9</th>\n",
              "      <td>unknown</td>\n",
              "      <td>1</td>\n",
              "    </tr>\n",
              "  </tbody>\n",
              "</table>\n",
              "</div>"
            ],
            "text/plain": [
              "    Communication_channels  Age\n",
              "0  Ayiti Analytics Website   15\n",
              "1          Bootcamp Alumni   14\n",
              "2                     ESIH   18\n",
              "3                 Facebook   40\n",
              "4                   Friend   67\n",
              "5                Instagram    5\n",
              "6                 LinkedIn   15\n",
              "7                 WhatsApp   66\n",
              "8                    other    9\n",
              "9                  unknown    1"
            ]
          },
          "execution_count": 331,
          "metadata": {},
          "output_type": "execute_result"
        }
      ],
      "source": [
        "age_channel.reset_index()"
      ]
    },
    {
      "cell_type": "code",
      "execution_count": 332,
      "metadata": {
        "id": "mquCtkRATSEi"
      },
      "outputs": [],
      "source": [
        "#here your codes\n",
        "#anova test\n",
        "# fvalue, pvalue = stats.f_oneway(age_channel[\"Communication_channels\"], age_channel[\"Age\"] )\n",
        "# print(fvalue, pvalue)"
      ]
    },
    {
      "cell_type": "markdown",
      "metadata": {
        "id": "Zf2Z2T1dTSEk"
      },
      "source": [
        "### 8.Plan a BA strategy for each communication channel regarding the age group"
      ]
    },
    {
      "cell_type": "code",
      "execution_count": 333,
      "metadata": {
        "id": "0Irx-WL7TSEl"
      },
      "outputs": [],
      "source": [
        "#here your codes"
      ]
    },
    {
      "cell_type": "markdown",
      "metadata": {
        "id": "VRiNTp0OTSEn"
      },
      "source": [
        "### 9.According to the observations what is the probability of being in each channel of communication knowing your are a woman"
      ]
    },
    {
      "cell_type": "code",
      "execution_count": 334,
      "metadata": {},
      "outputs": [],
      "source": [
        "def prob_all_comchannels(donne=\"x\"):\r\n",
        "    probability_1= df_final[df_final.Communication_channels==donne].shape[0]/df_final.shape[0]\r\n",
        "    return probability_1"
      ]
    },
    {
      "cell_type": "code",
      "execution_count": 335,
      "metadata": {},
      "outputs": [],
      "source": [
        "def prob_knowing_female(y,z):\r\n",
        "    prob_boot= (y*z)/z \r\n",
        "    return prob_boot"
      ]
    },
    {
      "cell_type": "code",
      "execution_count": 336,
      "metadata": {
        "id": "KfbbCD5ETSEo"
      },
      "outputs": [],
      "source": [
        "#here your codes\r\n",
        "prob_friend= prob_all_comchannels(donne=\"Friend\")\r\n",
        "prob_whatssap= prob_all_comchannels(donne=\"WhatsApp\")\r\n",
        "prob_facebook= prob_all_comchannels(donne=\"Facebook\")\r\n",
        "prob_esih= prob_all_comchannels(donne=\"ESIH\")\r\n",
        "prob_ayiti_analitics= prob_all_comchannels(donne=\"Ayiti Analytics Website\")\r\n",
        "prob_linkedin= prob_all_comchannels(donne=\"LinkedIn\")\r\n",
        "prob_alumni= prob_all_comchannels(donne=\"Bootcamp Alumni\")\r\n",
        "prob_other_com= prob_all_comchannels(donne=\"other\")\r\n",
        "prob_instagram= prob_all_comchannels(donne=\"Instagram\")\r\n",
        "prob_unknown_com= prob_all_comchannels(donne=\"unknown\")\r\n",
        "prob_female= df_final[df_final.gender=='female'].shape[0]/df_final.shape[0]\r\n",
        "prob_male= df_final[df_final.gender=='male'].shape[0]/df_final.shape[0]\r\n",
        "\r\n"
      ]
    },
    {
      "cell_type": "code",
      "execution_count": 337,
      "metadata": {},
      "outputs": [],
      "source": [
        "prob_friend_female=prob_knowing_female(y=prob_friend,z=prob_female)"
      ]
    },
    {
      "cell_type": "code",
      "execution_count": 338,
      "metadata": {},
      "outputs": [],
      "source": [
        "prob_whatssap_female=prob_knowing_female(y=prob_whatssap,z=prob_female)"
      ]
    },
    {
      "cell_type": "code",
      "execution_count": 339,
      "metadata": {},
      "outputs": [],
      "source": [
        "prob_facebook_female =prob_knowing_female(y=prob_facebook,z=prob_female)"
      ]
    },
    {
      "cell_type": "code",
      "execution_count": 340,
      "metadata": {},
      "outputs": [],
      "source": [
        "prob_esih_female =prob_knowing_female(y=prob_esih,z=prob_female)"
      ]
    },
    {
      "cell_type": "code",
      "execution_count": 341,
      "metadata": {},
      "outputs": [],
      "source": [
        "prob_ayiti_female =prob_knowing_female(y=prob_ayiti_analitics,z=prob_female)"
      ]
    },
    {
      "cell_type": "code",
      "execution_count": 342,
      "metadata": {},
      "outputs": [],
      "source": [
        "prob_linkedin_female =prob_knowing_female(y=prob_linkedin,z=prob_female)"
      ]
    },
    {
      "cell_type": "code",
      "execution_count": 343,
      "metadata": {},
      "outputs": [],
      "source": [
        "prob_alumni_female =prob_knowing_female(y=prob_alumni,z=prob_female)"
      ]
    },
    {
      "cell_type": "code",
      "execution_count": 344,
      "metadata": {},
      "outputs": [],
      "source": [
        "prob_other_female =prob_knowing_female(y=prob_other_com,z=prob_female)"
      ]
    },
    {
      "cell_type": "code",
      "execution_count": 345,
      "metadata": {},
      "outputs": [],
      "source": [
        "prob_instagram_female =prob_knowing_female(y=prob_instagram,z=prob_female)"
      ]
    },
    {
      "cell_type": "code",
      "execution_count": 346,
      "metadata": {},
      "outputs": [],
      "source": [
        "prob_unknown_female =prob_knowing_female(y=prob_unknown_com,z=prob_female)"
      ]
    },
    {
      "cell_type": "markdown",
      "metadata": {
        "id": "wChpmw9gTSEp"
      },
      "source": [
        "### 10.According to the observations what is the probability of being in each channel of communication knowing your are a man"
      ]
    },
    {
      "cell_type": "code",
      "execution_count": 347,
      "metadata": {
        "id": "1O7UFuMCTSEq"
      },
      "outputs": [
        {
          "data": {
            "text/plain": [
              "0.268"
            ]
          },
          "execution_count": 347,
          "metadata": {},
          "output_type": "execute_result"
        }
      ],
      "source": [
        "#here your codes\r\n",
        "prob_friend_male=prob_knowing_female(y=prob_friend,z=prob_male)\r\n",
        "prob_friend_male"
      ]
    },
    {
      "cell_type": "code",
      "execution_count": 348,
      "metadata": {},
      "outputs": [],
      "source": [
        "prob_whatssap_male=prob_knowing_female(y=prob_whatssap,z=prob_male)"
      ]
    },
    {
      "cell_type": "code",
      "execution_count": 349,
      "metadata": {},
      "outputs": [],
      "source": [
        "prob_facebook_male =prob_knowing_female(y=prob_facebook,z=prob_male)"
      ]
    },
    {
      "cell_type": "code",
      "execution_count": 350,
      "metadata": {},
      "outputs": [],
      "source": [
        "prob_esih_male =prob_knowing_female(y=prob_esih,z=prob_male)"
      ]
    },
    {
      "cell_type": "code",
      "execution_count": 351,
      "metadata": {},
      "outputs": [],
      "source": [
        "prob_ayiti_male =prob_knowing_female(y=prob_ayiti_analitics,z=prob_male)"
      ]
    },
    {
      "cell_type": "code",
      "execution_count": 352,
      "metadata": {},
      "outputs": [],
      "source": [
        "prob_linkedin_male =prob_knowing_female(y=prob_linkedin,z=prob_male)"
      ]
    },
    {
      "cell_type": "code",
      "execution_count": 353,
      "metadata": {},
      "outputs": [],
      "source": [
        "prob_alumni_male =prob_knowing_female(y=prob_alumni,z=prob_male)"
      ]
    },
    {
      "cell_type": "code",
      "execution_count": 354,
      "metadata": {},
      "outputs": [],
      "source": [
        "prob_other_male =prob_knowing_female(y=prob_other_com,z=prob_male)"
      ]
    },
    {
      "cell_type": "code",
      "execution_count": 355,
      "metadata": {},
      "outputs": [
        {
          "ename": "NameError",
          "evalue": "name 'prob_knowing_male' is not defined",
          "output_type": "error",
          "traceback": [
            "\u001b[0;31m---------------------------------------------------------------------------\u001b[0m",
            "\u001b[0;31mNameError\u001b[0m                                 Traceback (most recent call last)",
            "\u001b[0;32m<ipython-input-355-9dc318ab026f>\u001b[0m in \u001b[0;36m<module>\u001b[0;34m\u001b[0m\n\u001b[0;32m----> 1\u001b[0;31m \u001b[0mprob_instagram_female\u001b[0m \u001b[0;34m=\u001b[0m\u001b[0mprob_knowing_male\u001b[0m\u001b[0;34m(\u001b[0m\u001b[0my\u001b[0m\u001b[0;34m=\u001b[0m\u001b[0mprob_instagram\u001b[0m\u001b[0;34m,\u001b[0m\u001b[0mz\u001b[0m\u001b[0;34m=\u001b[0m\u001b[0mprob_male\u001b[0m\u001b[0;34m)\u001b[0m\u001b[0;34m\u001b[0m\u001b[0;34m\u001b[0m\u001b[0m\n\u001b[0m",
            "\u001b[0;31mNameError\u001b[0m: name 'prob_knowing_male' is not defined"
          ]
        }
      ],
      "source": [
        "prob_instagram_male =prob_knowing_female(y=prob_instagram,z=prob_male)"
      ]
    },
    {
      "cell_type": "code",
      "execution_count": null,
      "metadata": {},
      "outputs": [],
      "source": [
        "prob_unknown_male =prob_knowing_female(y=prob_unknown_com,z=prob_male)"
      ]
    },
    {
      "cell_type": "markdown",
      "metadata": {
        "id": "5y0RxWx3TSEr"
      },
      "source": [
        "### 11. Deduce the probability of being a man knowing each communication channel"
      ]
    },
    {
      "cell_type": "code",
      "execution_count": null,
      "metadata": {
        "id": "Ao4HbLVjTSEs"
      },
      "outputs": [],
      "source": [
        "#here your codes\r\n",
        "prob_male_unknown=prob_knowing_female(y=prob_male,z=prob_unknown_com)"
      ]
    },
    {
      "cell_type": "code",
      "execution_count": null,
      "metadata": {},
      "outputs": [],
      "source": [
        "prob_male_instagram=prob_knowing_female(y=prob_male,z=prob_instagram)"
      ]
    },
    {
      "cell_type": "code",
      "execution_count": null,
      "metadata": {},
      "outputs": [],
      "source": [
        "prob_male_other=prob_knowing_female(y=prob_male,z=prob_other_com)"
      ]
    },
    {
      "cell_type": "code",
      "execution_count": null,
      "metadata": {},
      "outputs": [],
      "source": [
        "prob_male_alumni=prob_knowing_female(y=prob_male,z=prob_alumni)"
      ]
    },
    {
      "cell_type": "code",
      "execution_count": null,
      "metadata": {},
      "outputs": [],
      "source": [
        "prob_male_linkedin =prob_knowing_female(y=prob_male,z=prob_linkedin)"
      ]
    },
    {
      "cell_type": "code",
      "execution_count": null,
      "metadata": {},
      "outputs": [],
      "source": [
        "prob_male_ayiti =prob_knowing_female(y=prob_male,z=prob_ayiti_analitics)"
      ]
    },
    {
      "cell_type": "code",
      "execution_count": null,
      "metadata": {},
      "outputs": [],
      "source": [
        "prob_male_esih =prob_knowing_female(y=prob_male,z=prob_esih)"
      ]
    },
    {
      "cell_type": "code",
      "execution_count": null,
      "metadata": {},
      "outputs": [],
      "source": [
        "prob_male_facebook =prob_knowing_female(y=prob_male,z=prob_facebook)"
      ]
    },
    {
      "cell_type": "code",
      "execution_count": null,
      "metadata": {},
      "outputs": [],
      "source": [
        "prob_male_whatsapp =prob_knowing_female(y=prob_male,z=prob_whatssap)"
      ]
    },
    {
      "cell_type": "markdown",
      "metadata": {
        "id": "wGkJ_GrkTSEt"
      },
      "source": [
        "### 13. Deduce the probability of being a woman knowing each communication channel"
      ]
    },
    {
      "cell_type": "code",
      "execution_count": null,
      "metadata": {
        "id": "BWP4fk0LTSEu"
      },
      "outputs": [],
      "source": [
        "# here your codes\r\n",
        "prob_female_whatsapp =prob_knowing_female(y=prob_female,z=prob_whatssap)"
      ]
    },
    {
      "cell_type": "code",
      "execution_count": null,
      "metadata": {},
      "outputs": [],
      "source": [
        "prob_female_facebook =prob_knowing_female(y=prob_female,z=prob_facebook)"
      ]
    },
    {
      "cell_type": "code",
      "execution_count": null,
      "metadata": {},
      "outputs": [],
      "source": [
        "prob_female_esih =prob_knowing_female(y=prob_female,z=prob_esih)"
      ]
    },
    {
      "cell_type": "code",
      "execution_count": null,
      "metadata": {},
      "outputs": [],
      "source": [
        "prob_female_ayiti =prob_knowing_female(y=prob_female,z=prob_ayiti_analitics)"
      ]
    },
    {
      "cell_type": "code",
      "execution_count": null,
      "metadata": {},
      "outputs": [],
      "source": [
        "prob_female_linkedin =prob_knowing_female(y=prob_female,z=prob_linkedin)"
      ]
    },
    {
      "cell_type": "code",
      "execution_count": null,
      "metadata": {},
      "outputs": [],
      "source": [
        "prob_female_alumni =prob_knowing_female(y=prob_female,z=prob_alumni)"
      ]
    },
    {
      "cell_type": "code",
      "execution_count": null,
      "metadata": {},
      "outputs": [],
      "source": [
        "prob_female_other =prob_knowing_female(y=prob_female,z=prob_other_com)"
      ]
    },
    {
      "cell_type": "code",
      "execution_count": null,
      "metadata": {},
      "outputs": [],
      "source": [
        "prob_female_instagram =prob_knowing_female(y=prob_female,z=prob_instagram)"
      ]
    },
    {
      "cell_type": "code",
      "execution_count": null,
      "metadata": {},
      "outputs": [],
      "source": [
        "prob_female_unknown =prob_knowing_female(y=prob_female,z=prob_unknown_com)"
      ]
    },
    {
      "cell_type": "markdown",
      "metadata": {
        "id": "NalU9FkTTSEy"
      },
      "source": [
        "### 15 Display a plot to see Gender vs Communication Channels .Is there any dependency between communication channels and gender?"
      ]
    },
    {
      "cell_type": "code",
      "execution_count": 356,
      "metadata": {},
      "outputs": [],
      "source": [
        "import seaborn as sns"
      ]
    },
    {
      "cell_type": "code",
      "execution_count": 373,
      "metadata": {},
      "outputs": [
        {
          "data": {
            "text/plain": [
              "<AxesSubplot:xlabel='gender'>"
            ]
          },
          "execution_count": 373,
          "metadata": {},
          "output_type": "execute_result"
        },
        {
          "data": {
            "image/png": "[encoded data removed]",
            "text/plain": [
              "<Figure size 864x720 with 1 Axes>"
            ]
          },
          "metadata": {
            "needs_background": "light"
          },
          "output_type": "display_data"
        }
      ],
      "source": [
        "cross1=pd.crosstab(index=df_final.gender,columns=df_final.Communication_channels)\n",
        "cross1.plot.bar(figsize=(12,10), rot=0)"
      ]
    },
    {
      "cell_type": "code",
      "execution_count": 374,
      "metadata": {},
      "outputs": [
        {
          "name": "stdout",
          "output_type": "stream",
          "text": [
            "p value is 0.02907484414773651\n",
            "The two variables are dependent (reject Null Hypothesis H0)\n"
          ]
        }
      ],
      "source": [
        "from scipy.stats import chi2_contingency\n",
        "chi2_contingency(cross1.values)\n",
        "stat, p, dof, expected = chi2_contingency(cross1.values)\n",
        "alpha = 0.05\n",
        "print(\"p value is \" + str(p))\n",
        "if p <= alpha:\n",
        "    print('The two variables are dependent (reject Null Hypothesis H0)')\n",
        "else:\n",
        "    print('The two variables are independent (Null Hypothesis H0 holds true)')"
      ]
    },
    {
      "cell_type": "markdown",
      "metadata": {
        "id": "9f5e18m_TSE0"
      },
      "source": [
        "### 16 Use the same method to display plot and know if is there any dependency between communication channels and Bootcamp Insterest?"
      ]
    },
    {
      "cell_type": "code",
      "execution_count": 379,
      "metadata": {
        "id": "0nP4EPNXTSE1"
      },
      "outputs": [
        {
          "data": {
            "text/plain": [
              "<AxesSubplot:xlabel='Communication_channels'>"
            ]
          },
          "execution_count": 379,
          "metadata": {},
          "output_type": "execute_result"
        },
        {
          "data": {
            "image/png": "[encoded data removed]",
            "text/plain": [
              "<Figure size 864x720 with 1 Axes>"
            ]
          },
          "metadata": {
            "needs_background": "light"
          },
          "output_type": "display_data"
        }
      ],
      "source": [
        "# here you\n",
        "cross2=pd.crosstab(index=df_final.Communication_channels,columns=df_final.Bootcamp_Insterest)\n",
        "cross2.plot.bar(figsize=(12,10), rot=0)"
      ]
    },
    {
      "cell_type": "code",
      "execution_count": 377,
      "metadata": {},
      "outputs": [
        {
          "name": "stdout",
          "output_type": "stream",
          "text": [
            "p value is 2.7040922010696464e-14\n",
            "The two variables are dependent (reject Null Hypothesis H0)\n"
          ]
        }
      ],
      "source": [
        "from scipy.stats import chi2_contingency\n",
        "chi2_contingency(cross2.values)\n",
        "stat, p, dof, expected = chi2_contingency(cross2.values)\n",
        "alpha = 0.05\n",
        "print(\"p value is \" + str(p))\n",
        "if p <= alpha:\n",
        "    print('The two variables are dependent (reject Null Hypothesis H0)')\n",
        "else:\n",
        "    print('The two variables are independent (Null Hypothesis H0 holds true)')"
      ]
    },
    {
      "cell_type": "markdown",
      "metadata": {
        "id": "iVjj8TXfTSE2"
      },
      "source": [
        "### 17.Plan a BA  strategy for each communication channel, Bootcamp Insterest regarding the gender "
      ]
    },
    {
      "cell_type": "code",
      "execution_count": null,
      "metadata": {
        "id": "ImytFuNcTSE3"
      },
      "outputs": [],
      "source": [
        "#here your codes"
      ]
    },
    {
      "cell_type": "markdown",
      "metadata": {
        "id": "0NdV7YBXTSE3"
      },
      "source": [
        "### 18.Plan a BA  strategy for each communication channel, Bootcamp Insterest regarding the gender"
      ]
    },
    {
      "cell_type": "code",
      "execution_count": null,
      "metadata": {
        "id": "PM2izr9nTSE4"
      },
      "outputs": [],
      "source": [
        "# here your codes"
      ]
    },
    {
      "cell_type": "markdown",
      "metadata": {
        "id": "F9QXFvT4TSE5"
      },
      "source": [
        "### 19. Calculate \r\n",
        "    * P(Bootcamp Insterest,Communication channels,Gender/Payed=yes)\r\n",
        "    * P(Bootcamp Insterest,Communication channels,Gender/Payed=no)"
      ]
    },
    {
      "cell_type": "code",
      "execution_count": null,
      "metadata": {},
      "outputs": [],
      "source": [
        "df_final[\"Bootcamp_Insterest\"].value_counts()"
      ]
    },
    {
      "cell_type": "code",
      "execution_count": null,
      "metadata": {},
      "outputs": [],
      "source": [
        "# calcul of all the probability in the bootcamp interest columns\r\n",
        "def prob_all_bootcamp_interest(data=\"x\"):\r\n",
        "    probability_0= df_final[df_final.Bootcamp_Insterest==data].shape[0]/df_final.shape[0]\r\n",
        "    return probability_0"
      ]
    },
    {
      "cell_type": "code",
      "execution_count": null,
      "metadata": {},
      "outputs": [],
      "source": [
        "prob_improving_data_skills= prob_all_bootcamp_interest(data=\"Improving my data analysis skills\")"
      ]
    },
    {
      "cell_type": "code",
      "execution_count": null,
      "metadata": {},
      "outputs": [],
      "source": [
        "# Finding a job probability\r\n",
        "prob_finding_job = prob_all_bootcamp_interest(data=\"Finding a job/internship\")\r\n"
      ]
    },
    {
      "cell_type": "code",
      "execution_count": null,
      "metadata": {},
      "outputs": [],
      "source": [
        "prob_start_company=prob_all_bootcamp_interest(data=\"Training to start my own company\")"
      ]
    },
    {
      "cell_type": "code",
      "execution_count": null,
      "metadata": {},
      "outputs": [],
      "source": [
        "prob_switch_carrer=prob_all_bootcamp_interest(data=\"Switching careers\")"
      ]
    },
    {
      "cell_type": "code",
      "execution_count": null,
      "metadata": {},
      "outputs": [],
      "source": [
        "prob_Mentorship=prob_all_bootcamp_interest(data=\"Mentorship\")"
      ]
    },
    {
      "cell_type": "code",
      "execution_count": null,
      "metadata": {},
      "outputs": [],
      "source": [
        "prob_other=prob_all_bootcamp_interest(data=\"other\")"
      ]
    },
    {
      "cell_type": "code",
      "execution_count": null,
      "metadata": {},
      "outputs": [],
      "source": [
        "prob_unknow=prob_all_bootcamp_interest(data=\"unknown\")"
      ]
    },
    {
      "cell_type": "code",
      "execution_count": null,
      "metadata": {},
      "outputs": [],
      "source": [
        "df_final.Communication_channels.value_counts()"
      ]
    },
    {
      "cell_type": "code",
      "execution_count": null,
      "metadata": {},
      "outputs": [],
      "source": [
        "#calcul of the communication channels probability\r\n",
        "def prob_all_comchannels(donne=\"x\"):\r\n",
        "    probability_1= df_final[df_final.Communication_channels==donne].shape[0]/df_final.shape[0]\r\n",
        "    return probability_1"
      ]
    },
    {
      "cell_type": "code",
      "execution_count": null,
      "metadata": {},
      "outputs": [],
      "source": [
        "prob_friend= prob_all_comchannels(donne=\"Friend\")"
      ]
    },
    {
      "cell_type": "code",
      "execution_count": null,
      "metadata": {},
      "outputs": [],
      "source": [
        "prob_whatssap= prob_all_comchannels(donne=\"WhatsApp\")"
      ]
    },
    {
      "cell_type": "code",
      "execution_count": null,
      "metadata": {},
      "outputs": [],
      "source": [
        "prob_facebook= prob_all_comchannels(donne=\"Facebook\")"
      ]
    },
    {
      "cell_type": "code",
      "execution_count": null,
      "metadata": {},
      "outputs": [],
      "source": [
        "prob_esih= prob_all_comchannels(donne=\"ESIH\")"
      ]
    },
    {
      "cell_type": "code",
      "execution_count": null,
      "metadata": {},
      "outputs": [],
      "source": [
        "prob_ayiti_analitics= prob_all_comchannels(donne=\"Ayiti Analytics Website\")"
      ]
    },
    {
      "cell_type": "code",
      "execution_count": null,
      "metadata": {},
      "outputs": [],
      "source": [
        "prob_linkedin= prob_all_comchannels(donne=\"LinkedIn\")"
      ]
    },
    {
      "cell_type": "code",
      "execution_count": null,
      "metadata": {},
      "outputs": [],
      "source": [
        "prob_alumni= prob_all_comchannels(donne=\"Bootcamp Alumni\")"
      ]
    },
    {
      "cell_type": "code",
      "execution_count": null,
      "metadata": {},
      "outputs": [],
      "source": [
        "prob_other_com= prob_all_comchannels(donne=\"other\")"
      ]
    },
    {
      "cell_type": "code",
      "execution_count": null,
      "metadata": {},
      "outputs": [],
      "source": [
        "prob_instagram= prob_all_comchannels(donne=\"Instagram\")"
      ]
    },
    {
      "cell_type": "code",
      "execution_count": null,
      "metadata": {},
      "outputs": [],
      "source": [
        "prob_unknown_com= prob_all_comchannels(donne=\"unknown\")"
      ]
    },
    {
      "cell_type": "code",
      "execution_count": null,
      "metadata": {},
      "outputs": [],
      "source": [
        "# calcul of the probability for gender "
      ]
    },
    {
      "cell_type": "code",
      "execution_count": null,
      "metadata": {},
      "outputs": [],
      "source": [
        "prob_male= df_final[df_final.gender=='male'].shape[0]/df_final.shape[0]\r\n",
        "prob_male"
      ]
    },
    {
      "cell_type": "code",
      "execution_count": null,
      "metadata": {},
      "outputs": [],
      "source": [
        "prob_female= df_final[df_final.gender=='female'].shape[0]/df_final.shape[0]\r\n",
        "prob_female"
      ]
    },
    {
      "cell_type": "code",
      "execution_count": null,
      "metadata": {},
      "outputs": [],
      "source": [
        "# calcul of all the probability for the payed columns"
      ]
    },
    {
      "cell_type": "code",
      "execution_count": null,
      "metadata": {},
      "outputs": [],
      "source": [
        "prob_payed_yes= df_final[df_final.payed==\"yes\"].shape[0]/df_final.shape[0]\r\n",
        "prob_payed_yes"
      ]
    },
    {
      "cell_type": "code",
      "execution_count": null,
      "metadata": {},
      "outputs": [],
      "source": [
        "prob_payed_no= df_final[df_final.payed==\"No\"].shape[0]/df_final.shape[0]\r\n",
        "prob_payed_no"
      ]
    },
    {
      "cell_type": "code",
      "execution_count": null,
      "metadata": {},
      "outputs": [],
      "source": [
        "#* P(Bootcamp Insterest,Communication channels,Gender/Payed=yes)"
      ]
    },
    {
      "cell_type": "code",
      "execution_count": null,
      "metadata": {},
      "outputs": [],
      "source": [
        "def prob_knowing_payed_yes(y,z):\r\n",
        "    prob_boot= (y*z)/z \r\n",
        "    return prob_boot"
      ]
    },
    {
      "cell_type": "code",
      "execution_count": null,
      "metadata": {},
      "outputs": [],
      "source": [
        "prob_improve_yes=prob_knowing_payed_yes(y=prob_improving_data_skills,z=prob_payed_yes)"
      ]
    },
    {
      "cell_type": "code",
      "execution_count": null,
      "metadata": {},
      "outputs": [],
      "source": [
        "prob_job_yes=prob_knowing_payed_yes(y=prob_finding_job,z=prob_payed_yes)"
      ]
    },
    {
      "cell_type": "code",
      "execution_count": null,
      "metadata": {},
      "outputs": [],
      "source": [
        "prob_company_yes=prob_knowing_payed_yes(y=prob_start_company,z=prob_payed_yes)"
      ]
    },
    {
      "cell_type": "code",
      "execution_count": null,
      "metadata": {},
      "outputs": [],
      "source": [
        "prob_carrer_yes=prob_knowing_payed_yes(y=prob_switch_carrer,z=prob_payed_yes)"
      ]
    },
    {
      "cell_type": "code",
      "execution_count": null,
      "metadata": {},
      "outputs": [],
      "source": [
        "prob_mentor_yes=prob_knowing_payed_yes(y=prob_Mentorship,z=prob_payed_yes)"
      ]
    },
    {
      "cell_type": "code",
      "execution_count": null,
      "metadata": {},
      "outputs": [],
      "source": [
        "prob_other_yes=prob_knowing_payed_yes(y=prob_other,z=prob_payed_yes)"
      ]
    },
    {
      "cell_type": "code",
      "execution_count": null,
      "metadata": {},
      "outputs": [],
      "source": [
        "prob_unknow_yes=prob_knowing_payed_yes(y=prob_unknow,z=prob_payed_yes)"
      ]
    },
    {
      "cell_type": "code",
      "execution_count": null,
      "metadata": {},
      "outputs": [],
      "source": [
        "# * P(Communication channels/Payed=no)\"\"\""
      ]
    },
    {
      "cell_type": "code",
      "execution_count": null,
      "metadata": {},
      "outputs": [],
      "source": [
        "prob_friend_yes=prob_knowing_payed_yes(y=prob_friend,z=prob_payed_yes)"
      ]
    },
    {
      "cell_type": "code",
      "execution_count": null,
      "metadata": {},
      "outputs": [],
      "source": [
        "prob_whatsapp_yes=prob_knowing_payed_yes(y=prob_whatssap,z=prob_payed_yes)"
      ]
    },
    {
      "cell_type": "code",
      "execution_count": null,
      "metadata": {},
      "outputs": [],
      "source": [
        "prob_facebook_yes=prob_knowing_payed_yes(y=prob_facebook,z=prob_payed_yes)"
      ]
    },
    {
      "cell_type": "code",
      "execution_count": null,
      "metadata": {},
      "outputs": [],
      "source": [
        "prob_ayiti_yes=prob_knowing_payed_yes(y=prob_ayiti_analitics,z=prob_payed_yes)"
      ]
    },
    {
      "cell_type": "code",
      "execution_count": null,
      "metadata": {},
      "outputs": [],
      "source": [
        "prob_linkedin_yes=prob_knowing_payed_yes(y=prob_linkedin,z=prob_payed_yes)"
      ]
    },
    {
      "cell_type": "code",
      "execution_count": null,
      "metadata": {},
      "outputs": [],
      "source": [
        "prob_alumni_yes=prob_knowing_payed_yes(y=prob_alumni,z=prob_payed_yes)"
      ]
    },
    {
      "cell_type": "code",
      "execution_count": null,
      "metadata": {},
      "outputs": [],
      "source": [
        "prob_other_com_yes=prob_knowing_payed_yes(y=prob_other_com,z=prob_payed_yes)"
      ]
    },
    {
      "cell_type": "code",
      "execution_count": null,
      "metadata": {},
      "outputs": [],
      "source": [
        "prob_instagram_yes=prob_knowing_payed_yes(y=prob_instagram,z=prob_payed_yes)"
      ]
    },
    {
      "cell_type": "code",
      "execution_count": null,
      "metadata": {},
      "outputs": [],
      "source": [
        "prob_unknown_com_yes=prob_knowing_payed_yes(y=prob_unknown_com,z=prob_payed_yes)"
      ]
    },
    {
      "cell_type": "code",
      "execution_count": null,
      "metadata": {},
      "outputs": [],
      "source": [
        "#* P(Gender/Payed=yes)"
      ]
    },
    {
      "cell_type": "code",
      "execution_count": null,
      "metadata": {},
      "outputs": [],
      "source": [
        "prob_female_yes=prob_knowing_payed_yes(y=prob_female,z=prob_payed_yes)"
      ]
    },
    {
      "cell_type": "code",
      "execution_count": null,
      "metadata": {},
      "outputs": [],
      "source": [
        "prob_male_yes=prob_knowing_payed_yes(y=prob_male,z=prob_payed_yes)"
      ]
    },
    {
      "cell_type": "markdown",
      "metadata": {
        "id": "Zzz2oWknTSE6"
      },
      "source": [
        "### 20 reduce \n",
        "* P(Payed=\"yes\"/Bootcamp Insterest=\"Increase Skill\",Communication channels=\"Friend\",Gender=\"male\")\n",
        "* P(Payed=\"no\"/Bootcamp Insterest=\"Increase Skill\",Communication channels=\"Friend\",Gender=\"male\")"
      ]
    },
    {
      "cell_type": "code",
      "execution_count": null,
      "metadata": {},
      "outputs": [],
      "source": [
        "\r\n"
      ]
    },
    {
      "cell_type": "code",
      "execution_count": null,
      "metadata": {
        "id": "u9BsceOETSE7"
      },
      "outputs": [],
      "source": [
        "# here your codes"
      ]
    },
    {
      "cell_type": "markdown",
      "metadata": {
        "id": "QpMBm7IBTSE8"
      },
      "source": [
        "### Based on these findings, propose strategies to increase our sales?"
      ]
    },
    {
      "cell_type": "code",
      "execution_count": null,
      "metadata": {
        "id": "KWx7jdBtTSE9"
      },
      "outputs": [],
      "source": [
        "#here your codes"
      ]
    },
    {
      "cell_type": "markdown",
      "metadata": {
        "id": "9lvWxgLhTSE-"
      },
      "source": []
    }
  ],
  "metadata": {
    "colab": {
      "collapsed_sections": [],
      "name": "Statistics_project.ipynb",
      "provenance": []
    },
    "interpreter": {
      "hash": "f611ee8b2558f933cffd8086788210769d92773bc0be152165df248a2952012d"
    },
    "kernelspec": {
      "display_name": "Python 3.8.5 64-bit ('base': conda)",
      "name": "python3"
    },
    "language_info": {
      "codemirror_mode": {
        "name": "ipython",
        "version": 3
      },
      "file_extension": ".py",
      "mimetype": "text/x-python",
      "name": "python",
      "nbconvert_exporter": "python",
      "pygments_lexer": "ipython3",
      "version": "3.8.5"
    },
    "orig_nbformat": 4
  },
  "nbformat": 4,
  "nbformat_minor": 2
}